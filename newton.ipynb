{
 "cells": [
  {
   "cell_type": "code",
   "execution_count": 1,
   "metadata": {},
   "outputs": [],
   "source": [
    "import numpy as np\n",
    "import matplotlib.pyplot as plt\n",
    "from math import *\n",
    "from tabulate import tabulate"
   ]
  },
  {
   "cell_type": "code",
   "execution_count": 2,
   "metadata": {},
   "outputs": [],
   "source": [
    "f = lambda x: x**2 - x - 2\n",
    "derf = lambda x: 2*x - 1"
   ]
  },
  {
   "cell_type": "code",
   "execution_count": 3,
   "metadata": {},
   "outputs": [],
   "source": [
    "def newton(f, derf, x0, eps, maxiter=100):\n",
    "    xk = x0\n",
    "    xk1 = lambda xk: xk - f(xk)/derf(xk)\n",
    "    ek = lambda xk1, xk: abs(xk1 - xk)\n",
    "    \n",
    "    points = []\n",
    "    for k in range(maxiter):\n",
    "        xk1_val = xk1(xk)\n",
    "        points.append([k, xk, xk1_val, f(xk1_val), ek(xk1_val, xk)/abs(xk1_val)])\n",
    "\n",
    "        if ek(xk1_val, xk)/abs(xk1_val) < eps:\n",
    "            break\n",
    "\n",
    "        xk = xk1_val\n",
    "    \n",
    "    return points"
   ]
  },
  {
   "cell_type": "code",
   "execution_count": 5,
   "metadata": {},
   "outputs": [
    {
     "name": "stdout",
     "output_type": "stream",
     "text": [
      "╒═════╤════════════╤════════════╤════════════╤═══════════════╕\n",
      "│   k │         xk │       xk+1 │    f(xk+1) │   ek+1/|xk+1| │\n",
      "╞═════╪════════════╪════════════╪════════════╪═══════════════╡\n",
      "│   0 │ 1.00000000 │ 3.00000000 │ 4.00000000 │    0.66666667 │\n",
      "├─────┼────────────┼────────────┼────────────┼───────────────┤\n",
      "│   1 │ 3.00000000 │ 2.20000000 │ 0.64000000 │    0.36363636 │\n",
      "├─────┼────────────┼────────────┼────────────┼───────────────┤\n",
      "│   2 │ 2.20000000 │ 2.01176471 │ 0.03543253 │    0.09356725 │\n",
      "├─────┼────────────┼────────────┼────────────┼───────────────┤\n",
      "│   3 │ 2.01176471 │ 2.00004578 │ 0.00013733 │    0.00585933 │\n",
      "╘═════╧════════════╧════════════╧════════════╧═══════════════╛\n"
     ]
    }
   ],
   "source": [
    "#NOTE: o penúltimo e último pontos não batem bem com os pontos do professor provavelmente por algum truncamento que não é feito aqui\n",
    "points = newton(f, derf, 1, 1e-2)\n",
    "print(tabulate(points, headers=['k', 'xk', 'xk+1', 'f(xk+1)', 'ek+1/|xk+1|'], tablefmt='fancy_grid', floatfmt='.8f'))"
   ]
  },
  {
   "cell_type": "code",
   "execution_count": null,
   "metadata": {},
   "outputs": [],
   "source": []
  }
 ],
 "metadata": {
  "kernelspec": {
   "display_name": "Python 3",
   "language": "python",
   "name": "python3"
  },
  "language_info": {
   "codemirror_mode": {
    "name": "ipython",
    "version": 3
   },
   "file_extension": ".py",
   "mimetype": "text/x-python",
   "name": "python",
   "nbconvert_exporter": "python",
   "pygments_lexer": "ipython3",
   "version": "3.10.12"
  }
 },
 "nbformat": 4,
 "nbformat_minor": 2
}
