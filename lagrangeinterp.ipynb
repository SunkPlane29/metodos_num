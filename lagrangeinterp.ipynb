{
 "cells": [
  {
   "cell_type": "code",
   "execution_count": 1,
   "metadata": {},
   "outputs": [],
   "source": [
    "import numpy as np\n",
    "import math"
   ]
  },
  {
   "cell_type": "code",
   "execution_count": 8,
   "metadata": {},
   "outputs": [],
   "source": [
    "def productloop(xval, xtab):\n",
    "    product = 1\n",
    "    for i in range(len(xtab)):\n",
    "        product *= (xval - xtab[i])\n",
    "    \n",
    "    return product\n",
    "\n",
    "def Di(i, xval, xtab, ytab):\n",
    "    product = (xval - xtab[i])\n",
    "    for j in range(len(xtab)):\n",
    "        if i != j:\n",
    "            product *= (xtab[j] - xtab[i])\n",
    "\n",
    "    return product\n",
    "\n",
    "def S(xval, xtab, ytab):\n",
    "    Sval = 0;\n",
    "\n",
    "    for i in range(len(ytab)):\n",
    "        Sval += ytab[i]/Di(i, xval, xtab, ytab)\n",
    "\n",
    "    return Sval\n",
    "\n",
    "def Pn(xval, xtab, ytab):\n",
    "    if xval in xtab:\n",
    "        return ytab[np.where(xtab == xval)[0]]\n",
    "\n",
    "    return productloop(xval, xtab) * S(xval, xtab, ytab)"
   ]
  },
  {
   "cell_type": "code",
   "execution_count": 9,
   "metadata": {},
   "outputs": [
    {
     "name": "stdout",
     "output_type": "stream",
     "text": [
      "0.33333333333333337\n"
     ]
    }
   ],
   "source": [
    "xtab = np.array([-1.0, 0.0, 2.0])\n",
    "ytab = np.array([2.0, 1.0, 0.0])\n",
    "\n",
    "print(Pn(1, xtab, ytab))"
   ]
  },
  {
   "cell_type": "code",
   "execution_count": null,
   "metadata": {},
   "outputs": [],
   "source": []
  }
 ],
 "metadata": {
  "kernelspec": {
   "display_name": "Python 3",
   "language": "python",
   "name": "python3"
  },
  "language_info": {
   "codemirror_mode": {
    "name": "ipython",
    "version": 3
   },
   "file_extension": ".py",
   "mimetype": "text/x-python",
   "name": "python",
   "nbconvert_exporter": "python",
   "pygments_lexer": "ipython3",
   "version": "3.10.12"
  }
 },
 "nbformat": 4,
 "nbformat_minor": 2
}
