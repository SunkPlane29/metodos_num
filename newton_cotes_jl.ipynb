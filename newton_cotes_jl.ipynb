{
 "cells": [
  {
   "cell_type": "code",
   "execution_count": 14,
   "metadata": {},
   "outputs": [
    {
     "data": {
      "text/plain": [
       "newtoncotes (generic function with 1 method)"
      ]
     },
     "metadata": {},
     "output_type": "display_data"
    }
   ],
   "source": [
    "function newtoncotes(f, a, b, n, m)\n",
    "    d = [2, 6, 8, 90, 288, 840, 17280, 28350]\n",
    "    c = [1, 1, 4, 1, 3, 7, 32, 12, 19, 75, 50, 41, 216, 27, 272, 751, 3577, 1323, 2989, 28350, 989, 588, -928, 10496, -4540]\n",
    "\n",
    "    conderro = 0\n",
    "    int = 0\n",
    "    if n < 1 || n > 8\n",
    "        conderro += 1\n",
    "    end\n",
    "    if m%n != 0\n",
    "        conderro += 2\n",
    "    end\n",
    "    if conderro != 0\n",
    "        println(\"CondERRO = $(conderro)\")  \n",
    "        return Nothing\n",
    "    end\n",
    "\n",
    "    p = trunc(0.25*(n*(n + 2) + (n%2)))\n",
    "    h = (b - a)/m \n",
    "    for i = 0:m\n",
    "        x = a + i*h\n",
    "        y = f(x)\n",
    "        j = Int(p + trunc(0.5*n - abs((i%n) - 0.5*n)))\n",
    "        k = 1 + trunc((n - (i%n))/n) - trunc((m - (i%m))/m)\n",
    "        int += y*c[j]*k\n",
    "    end\n",
    "\n",
    "    int *= n*h/d[n]\n",
    "    return int\n",
    "end"
   ]
  },
  {
   "cell_type": "code",
   "execution_count": 15,
   "metadata": {},
   "outputs": [
    {
     "name": "stdout",
     "output_type": "stream",
     "text": [
      "9.414805533295496\n"
     ]
    }
   ],
   "source": [
    "f(x) = (1/3)*sqrt(36 - 4x^2)\n",
    "println(newtoncotes(f, -3, 3, 1, 100))"
   ]
  }
 ],
 "metadata": {
  "kernelspec": {
   "display_name": "Julia 1.10.3",
   "language": "julia",
   "name": "julia-1.10"
  },
  "language_info": {
   "file_extension": ".jl",
   "mimetype": "application/julia",
   "name": "julia",
   "version": "1.10.3"
  }
 },
 "nbformat": 4,
 "nbformat_minor": 2
}
