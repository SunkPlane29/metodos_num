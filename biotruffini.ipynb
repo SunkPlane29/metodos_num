{
 "cells": [
  {
   "cell_type": "code",
   "execution_count": 2,
   "metadata": {},
   "outputs": [],
   "source": [
    "from math import *\n",
    "from tabulate import tabulate"
   ]
  },
  {
   "cell_type": "code",
   "execution_count": 3,
   "metadata": {},
   "outputs": [],
   "source": [
    "def briotruffini(an, x0):\n",
    "    n = len(an) - 1\n",
    "\n",
    "    pprev = an[0]\n",
    "    qprev = an[0]\n",
    "\n",
    "    for i in range(0, n):\n",
    "        p = pprev * x0 + an[i + 1]\n",
    "        q = qprev * x0 + p\n",
    "\n",
    "        pprev = p\n",
    "        if i != n-1:\n",
    "            qprev = q\n",
    "\n",
    "    return pprev, qprev"
   ]
  },
  {
   "cell_type": "code",
   "execution_count": 4,
   "metadata": {},
   "outputs": [
    {
     "name": "stdout",
     "output_type": "stream",
     "text": [
      "47 81\n"
     ]
    }
   ],
   "source": [
    "an = [2, 1, 1, 1, 1]\n",
    "x0 = 2\n",
    "p, q = briotruffini(an, x0)\n",
    "print(p, q)"
   ]
  },
  {
   "cell_type": "code",
   "execution_count": null,
   "metadata": {},
   "outputs": [],
   "source": []
  }
 ],
 "metadata": {
  "kernelspec": {
   "display_name": "Python 3",
   "language": "python",
   "name": "python3"
  },
  "language_info": {
   "codemirror_mode": {
    "name": "ipython",
    "version": 3
   },
   "file_extension": ".py",
   "mimetype": "text/x-python",
   "name": "python",
   "nbconvert_exporter": "python",
   "pygments_lexer": "ipython3",
   "version": "3.10.12"
  }
 },
 "nbformat": 4,
 "nbformat_minor": 2
}
