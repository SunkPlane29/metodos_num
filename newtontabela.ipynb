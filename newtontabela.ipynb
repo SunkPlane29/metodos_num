{
 "cells": [
  {
   "cell_type": "code",
   "execution_count": 2,
   "metadata": {},
   "outputs": [],
   "source": [
    "using Printf"
   ]
  },
  {
   "cell_type": "code",
   "execution_count": 3,
   "metadata": {},
   "outputs": [
    {
     "data": {
      "text/plain": [
       "derf (generic function with 1 method)"
      ]
     },
     "metadata": {},
     "output_type": "display_data"
    }
   ],
   "source": [
    "f(x) = x^2 - x - 2\n",
    "derf(x) = 2x - 1"
   ]
  },
  {
   "cell_type": "code",
   "execution_count": 9,
   "metadata": {},
   "outputs": [
    {
     "data": {
      "text/plain": [
       "newton (generic function with 2 methods)"
      ]
     },
     "metadata": {},
     "output_type": "display_data"
    }
   ],
   "source": [
    "function newton(f, derf, x0, eps, maxiter=100)\n",
    "    xk = x0\n",
    "    xk1(xk) = xk - f(xk)/derf(xk)\n",
    "    ek(xk1, xk) = abs(xk1 - xk)\n",
    "\n",
    "    for k in 0:maxiter\n",
    "        xk1_val = xk1(xk)\n",
    "        @printf(\"k: %d, xk: %.8f, xk1: %.8f, |xk1 - xk|/|xk1|: %.8f\\n\", k, xk, xk1_val, ek(xk1_val, xk)/abs(xk1_val)) \n",
    "\n",
    "        if ek(xk1_val, xk)/abs(xk1_val) < eps\n",
    "            return xk1_val\n",
    "        end\n",
    "\n",
    "        xk = xk1_val\n",
    "    end\n",
    "end"
   ]
  },
  {
   "cell_type": "code",
   "execution_count": 11,
   "metadata": {},
   "outputs": [
    {
     "name": "stdout",
     "output_type": "stream",
     "text": [
      "k: 0, xk: 1.00000000, xk1: 3.00000000, |xk1 - xk|/|xk1|: 0.66666667\n",
      "k: 1, xk: 3.00000000, xk1: 2.20000000, |xk1 - xk|/|xk1|: 0.36363636\n",
      "k: 2, xk: 2.20000000, xk1: 2.01176471, |xk1 - xk|/|xk1|: 0.09356725\n",
      "k: 3, xk: 2.01176471, xk1: 2.00004578, |xk1 - xk|/|xk1|: 0.00585933\n"
     ]
    },
    {
     "data": {
      "text/plain": [
       "2.00004577706569"
      ]
     },
     "metadata": {},
     "output_type": "display_data"
    }
   ],
   "source": [
    "newton(f, derf, 1.0, 1e-2)"
   ]
  },
  {
   "cell_type": "code",
   "execution_count": null,
   "metadata": {},
   "outputs": [],
   "source": []
  }
 ],
 "metadata": {
  "kernelspec": {
   "display_name": "Julia 1.10.2",
   "language": "julia",
   "name": "julia-1.10"
  },
  "language_info": {
   "file_extension": ".jl",
   "mimetype": "application/julia",
   "name": "julia",
   "version": "1.10.2"
  }
 },
 "nbformat": 4,
 "nbformat_minor": 2
}
