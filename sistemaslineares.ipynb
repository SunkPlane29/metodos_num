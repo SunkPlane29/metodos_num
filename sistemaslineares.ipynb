{
 "cells": [
  {
   "cell_type": "code",
   "execution_count": 2,
   "metadata": {},
   "outputs": [],
   "source": [
    "import numpy as np"
   ]
  },
  {
   "cell_type": "code",
   "execution_count": 3,
   "metadata": {},
   "outputs": [],
   "source": [
    "def elimination(A, b):\n",
    "    M = np.concatenate((A, b), axis=1)\n",
    "\n",
    "    for k in range(0, M.shape[0]-1):\n",
    "        for i in range(k+1, M.shape[0]):\n",
    "            M[i] = M[i] - M[k] * M[i, k] / M[k, k]\n",
    "\n",
    "    return np.split(M, [M.shape[1]-1], axis=1)\n",
    "\n",
    "def STS(A, b):\n",
    "    n = len(b)\n",
    "    x = np.zeros(n)    \n",
    "    for i in range(n-1, -1, -1):\n",
    "        rest = sum([A[i, j] * x[j] for j in range(i+1, n)])\n",
    "        x[i] = (b[i,0] - rest) / A[i,i]\n",
    "    \n",
    "    return x"
   ]
  },
  {
   "cell_type": "code",
   "execution_count": 6,
   "metadata": {},
   "outputs": [
    {
     "name": "stdout",
     "output_type": "stream",
     "text": [
      "[-0.28571429  1.14285714 -1.        ]\n"
     ]
    }
   ],
   "source": [
    "A = np.array([2., -3., 1., 1., 2., 1., 4., -6., -1.]).reshape(3,3)\n",
    "b = np.array([-5., 1., -7.]).reshape(3,1)\n",
    "Anew, bnew = elimination(A, b)\n",
    "print(STS(Anew, bnew))"
   ]
  }
 ],
 "metadata": {
  "kernelspec": {
   "display_name": "Python 3",
   "language": "python",
   "name": "python3"
  },
  "language_info": {
   "codemirror_mode": {
    "name": "ipython",
    "version": 3
   },
   "file_extension": ".py",
   "mimetype": "text/x-python",
   "name": "python",
   "nbconvert_exporter": "python",
   "pygments_lexer": "ipython3",
   "version": "3.10.12"
  }
 },
 "nbformat": 4,
 "nbformat_minor": 2
}
