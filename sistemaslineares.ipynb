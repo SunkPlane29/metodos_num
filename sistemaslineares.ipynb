{
 "cells": [
  {
   "cell_type": "code",
   "execution_count": 2,
   "metadata": {},
   "outputs": [],
   "source": [
    "import numpy as np"
   ]
  },
  {
   "cell_type": "code",
   "execution_count": 18,
   "metadata": {},
   "outputs": [],
   "source": [
    "def elimination(A, b):\n",
    "    # junta a matriz A e o vetor b como uma coluna\n",
    "    M = np.concatenate((A, b), axis=1)\n",
    "\n",
    "    print(M)\n",
    "    # para cada coluna k de 0 a n-1 (que no caso n-2), pois vamos transformar em tringular superior\n",
    "    # trabalhando coluna por coluna, primeiro zerando os elementos abaixo da diagonal principal\n",
    "    # na primeira coluna, depois na segunda, mas a ultima coluna não precisa ser zerada pois não\n",
    "    # existem elementos abaixo da diagonal principal\n",
    "    for k in range(0, M.shape[0]-1):\n",
    "        # para cada linha i de k+1 a n (que no caso n-1), começa em k+1 pois zeramos somente abaixo da diagonal principal\n",
    "        for i in range(k+1, M.shape[0]):\n",
    "            print(\"i = \", i, \"k = \", k)\n",
    "            M[i] = M[i] - M[k] * M[i, k] / M[k, k]\n",
    "            print(M)\n",
    "\n",
    "    # retorna a matriz A e o vetor b separadamente\n",
    "    return np.split(M, [M.shape[1]-1], axis=1)\n",
    "\n",
    "def STS(A, b):\n",
    "    n = len(b)\n",
    "    x = np.zeros(n)    \n",
    "\n",
    "    # i vai variar de n-1 a 0 (por isso o n-1 no primeiro argumento, -1 porque python vai ir até 0, e o último\n",
    "    # -1 diz que deve decrementar -1 de i a cada iteração), o resto será o que está a direita do x em questão,\n",
    "    # por isso j vai de i+1 a n (que no caso sera n-1)\n",
    "    for i in range(n-1, -1, -1):\n",
    "        rest = sum([A[i, j] * x[j] for j in range(i+1, n)])\n",
    "        x[i] = (b[i,0] - rest) / A[i,i]\n",
    "    \n",
    "    return x\n",
    "\n",
    "def STI(A, b):\n",
    "    n = len(b)\n",
    "    x = np.zeros(n)\n",
    "\n",
    "    # i vai variar de 0 a n-1, o resto será o que está a esquerda do x em questão\n",
    "    # logo j vai de 0 a i-1 (é python, então tudo começa em 0 e vai até um valor antes do final)\n",
    "    for i in range(n):\n",
    "        rest = sum([A[i, j] * x[j] for j in range(i)])\n",
    "        x[i] = (b[i,0] - rest) / A[i,i]\n",
    "\n",
    "    return x"
   ]
  },
  {
   "cell_type": "code",
   "execution_count": 19,
   "metadata": {},
   "outputs": [
    {
     "name": "stdout",
     "output_type": "stream",
     "text": [
      "[[  1.  -3.   2.  11.]\n",
      " [ -2.   8.  -1. -15.]\n",
      " [  4.  -6.   5.  29.]]\n",
      "i =  1 k =  0\n",
      "[[ 1. -3.  2. 11.]\n",
      " [ 0.  2.  3.  7.]\n",
      " [ 4. -6.  5. 29.]]\n",
      "i =  2 k =  0\n",
      "[[  1.  -3.   2.  11.]\n",
      " [  0.   2.   3.   7.]\n",
      " [  0.   6.  -3. -15.]]\n",
      "i =  2 k =  1\n",
      "[[  1.  -3.   2.  11.]\n",
      " [  0.   2.   3.   7.]\n",
      " [  0.   0. -12. -36.]]\n",
      "[ 2. -1.  3.]\n"
     ]
    }
   ],
   "source": [
    "A = np.array([1., -3., 2., -2., 8., -1., 4., -6., 5.]).reshape(3,3)\n",
    "b = np.array([11., -15., 29.]).reshape(3,1)\n",
    "A, b = elimination(A, b)\n",
    "print(STS(A, b))"
   ]
  },
  {
   "cell_type": "code",
   "execution_count": null,
   "metadata": {},
   "outputs": [],
   "source": []
  }
 ],
 "metadata": {
  "kernelspec": {
   "display_name": "Python 3",
   "language": "python",
   "name": "python3"
  },
  "language_info": {
   "codemirror_mode": {
    "name": "ipython",
    "version": 3
   },
   "file_extension": ".py",
   "mimetype": "text/x-python",
   "name": "python",
   "nbconvert_exporter": "python",
   "pygments_lexer": "ipython3",
   "version": "3.10.12"
  }
 },
 "nbformat": 4,
 "nbformat_minor": 2
}
