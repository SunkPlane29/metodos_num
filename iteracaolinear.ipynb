{
 "cells": [
  {
   "cell_type": "code",
   "execution_count": 2,
   "metadata": {},
   "outputs": [],
   "source": [
    "import numpy as np\n",
    "import matplotlib.pyplot as plt\n",
    "from math import *\n",
    "from tabulate import tabulate"
   ]
  },
  {
   "cell_type": "markdown",
   "metadata": {},
   "source": [
    "No método da iteração linear temos como base transformar uma equação de raízes do tipo $f(x) = 0$ em uma equação do tipo $x = g(x)$. Termos a interceptação de um gráfico de $g(x)$ com a reta $h(x) = x$. Se pegarmos um ponto $x_0$ e pegarmos o correspondente de mesmo valor em $h(x)$ (no caso simplesmente o valor de $h(x)$) teremos um ponto mais próximo do ponto em que interceptam, ou seja, a solução de $f(x)$. Um dos requisitos é a função ter derivada segunda contínua no ponto $\\bar{x}$ (a solução de $f(x) = 0$) em certo intervalo, e também que $|g'(x)| = 0$. Chegamos a três conclusões:\n",
    "\n",
    "- a) A iteração $x_{k+1}$ pode ser realizada indefinidamente pois $x_k$ pertence ao intervalo em que as hipóteses são válidas.\n",
    "- b) $|x_k - \\bar{x}| \\rightarrow 0$\n",
    "- c) Se $g'(x) \\neq 0$ a sequência $(x_n)_{n = 0}^{+\\infty}$ converge monotonicamente. Se $g'(x) = 0$ e $g''(x) \\neq 0$ converge oscilando.\n",
    "\n",
    "\n",
    "- Será que essa função $g(x)$ encontramos somente analiticamente? Não vejo problema em encontrar analiticamente uma função dessas."
   ]
  },
  {
   "cell_type": "markdown",
   "metadata": {},
   "source": [
    "Exemplo: $g(x) = \\sqrt{x + 2}$, $g'(x) = \\frac{1}{2 \\sqrt{x + 2}}$, temos que $$\\frac{1}{2\\sqrt{x + 2}} \\le M,$$ escolhemos $M = 1$ então resolvemos a desigualdade e obtemos $x \\ge -1.75$."
   ]
  },
  {
   "cell_type": "markdown",
   "metadata": {},
   "source": [
    "É possível chegar em uma expressão para $p$ a partir do limite que define $p$ como a convergência do método.\n",
    "\n",
    "- Obtive $p = -1$ para todos as tabelas que montei, faz sentido visto que ele tá na parte inferior."
   ]
  },
  {
   "cell_type": "code",
   "execution_count": 5,
   "metadata": {},
   "outputs": [],
   "source": [
    "xk1 = lambda xk: sqrt(xk + 2)\n",
    "ek = lambda xk: abs(xk1(xk) - xk)\n",
    "pk = lambda xk: log(ek(xk1(xk))/ek(xk))/log(ek(xk)/ek(xk1(xk))) "
   ]
  },
  {
   "cell_type": "code",
   "execution_count": 16,
   "metadata": {},
   "outputs": [
    {
     "name": "stdout",
     "output_type": "stream",
     "text": [
      "k: 0, xk: 4.00000, xk1: 2.44949, ek: 0.63299, pk: -1.00000\n",
      "k: 1, xk: 2.44949, xk1: 2.10938, ek: 0.16124, pk: -1.00000\n",
      "k: 2, xk: 2.10938, xk1: 2.02716, ek: 0.04056, pk: -1.00000\n",
      "k: 3, xk: 2.02716, xk1: 2.00678, ek: 0.01016, pk: -1.00000\n",
      "k: 4, xk: 2.00678, xk1: 2.00169, ek: 0.00254, pk: -1.00000\n"
     ]
    }
   ],
   "source": [
    "xk = 4\n",
    "eps = 0.01\n",
    "maxiter = 100\n",
    "for k in range(0, maxiter):\n",
    "    print(\"k: %d, xk: %.5f, xk1: %.5f, ek: %.5f, pk: %.5f\"%(k, xk, xk1(xk), ek(xk)/abs(xk1(xk)), pk(xk)))\n",
    "    if ek(xk)/abs(xk1(xk)) <= eps:\n",
    "        break\n",
    "   \n",
    "    xk = xk1(xk)"
   ]
  },
  {
   "cell_type": "markdown",
   "metadata": {},
   "source": [
    "#TODO: fazer uma forma funcional disso, mas acho que vou ter que colocar como parâmetro a própria $g(x)$ e um chute inicial no intervalo que tenha convergência."
   ]
  }
 ],
 "metadata": {
  "kernelspec": {
   "display_name": "Python 3",
   "language": "python",
   "name": "python3"
  },
  "language_info": {
   "codemirror_mode": {
    "name": "ipython",
    "version": 3
   },
   "file_extension": ".py",
   "mimetype": "text/x-python",
   "name": "python",
   "nbconvert_exporter": "python",
   "pygments_lexer": "ipython3",
   "version": "3.10.12"
  }
 },
 "nbformat": 4,
 "nbformat_minor": 2
}
