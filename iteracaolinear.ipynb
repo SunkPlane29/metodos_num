{
 "cells": [
  {
   "cell_type": "code",
   "execution_count": 2,
   "metadata": {},
   "outputs": [],
   "source": [
    "import numpy as np\n",
    "import matplotlib.pyplot as plt\n",
    "from math import *\n",
    "from tabulate import tabulate"
   ]
  },
  {
   "cell_type": "markdown",
   "metadata": {},
   "source": [
    "No método da iteração linear temos como base transformar uma equação de raízes do tipo $f(x) = 0$ em uma equação do tipo $x = g(x)$. Termos a interceptação de um gráfico de $g(x)$ com a reta $h(x) = x$. Se pegarmos um ponto $x_0$ e pegarmos o correspondente de mesmo valor em $h(x)$ (no caso simplesmente o valor de $h(x)$) teremos um ponto mais próximo do ponto em que interceptam, ou seja, a solução de $f(x)$. Um dos requisitos é a função ter derivada segunda contínua no ponto $\\bar{x}$ (a solução de $f(x) = 0$) em certo intervalo, e também que $|g'(x)| = 0$. Chegamos a três conclusões:\n",
    "\n",
    "- a) A iteração $x_{k+1}$ pode ser realizada indefinidamente pois $x_k$ pertence ao intervalo em que as hipóteses são válidas.\n",
    "- b) $|x_k - \\bar{x}| \\rightarrow 0$\n",
    "- c) Se $g'(x) \\neq 0$ a sequência $(x_n)_{n = 0}^{+\\infty}$ converge monotonicamente. Se $g'(x) = 0$ e $g''(x) \\neq 0$ converge oscilando.\n",
    "\n",
    "\n",
    "- Será que essa função $g(x)$ encontramos somente analiticamente? Não vejo problema em encontrar analiticamente uma função dessas."
   ]
  },
  {
   "cell_type": "markdown",
   "metadata": {},
   "source": [
    "Exemplo: $g(x) = \\sqrt{x + 2}$, $g'(x) = \\frac{1}{2 \\sqrt{x + 2}}$, temos que $$\\frac{1}{2\\sqrt{x + 2}} \\le M,$$ escolhemos $M = 1$ então resolvemos a desigualdade e obtemos $x \\ge -1.75$."
   ]
  },
  {
   "cell_type": "markdown",
   "metadata": {},
   "source": [
    "É possível chegar em uma expressão para $p$ a partir do limite que define $p$ como a convergência do método.\n",
    "\n",
    "- Obtive $p = -1$ para todos as tabelas que montei, faz sentido visto que ele tá na parte inferior."
   ]
  },
  {
   "cell_type": "code",
   "execution_count": 19,
   "metadata": {},
   "outputs": [],
   "source": [
    "g = lambda xk: sqrt(xk + 2)"
   ]
  },
  {
   "cell_type": "code",
   "execution_count": 27,
   "metadata": {},
   "outputs": [],
   "source": [
    "def iteracaolinear(x0, g, eps, maxiter=100):\n",
    "    xk = x0\n",
    "    points = []\n",
    "\n",
    "    ek = lambda xk: abs(g(xk) - xk)\n",
    "    pk = lambda xk: log(abs(ek(g(xk))/ek(xk)))/log(abs(ek(xk)/ek(g(xk))))\n",
    "    for k in range(0, maxiter):\n",
    "        points.append([k, xk, g(xk), ek(xk)/abs(g(xk)), pk(xk)])\n",
    "        if ek(xk)/abs(g(xk)) <= eps:\n",
    "            break\n",
    "\n",
    "        xk = f(xk)\n",
    "\n",
    "    return points"
   ]
  },
  {
   "cell_type": "code",
   "execution_count": 29,
   "metadata": {},
   "outputs": [
    {
     "name": "stdout",
     "output_type": "stream",
     "text": [
      "╒═════╤═════════╤═════════╤═════════════════════╤═════════╕\n",
      "│   k │      xk │   g(xk) │   ek(xk)/abs(g(xk)) │   p(xk) │\n",
      "╞═════╪═════════╪═════════╪═════════════════════╪═════════╡\n",
      "│   0 │ 4       │ 2.44949 │          0.632993   │      -1 │\n",
      "├─────┼─────────┼─────────┼─────────────────────┼─────────┤\n",
      "│   1 │ 2.44949 │ 2.10938 │          0.161236   │      -1 │\n",
      "├─────┼─────────┼─────────┼─────────────────────┼─────────┤\n",
      "│   2 │ 2.10938 │ 2.02716 │          0.0405594  │      -1 │\n",
      "├─────┼─────────┼─────────┼─────────────────────┼─────────┤\n",
      "│   3 │ 2.02716 │ 2.00678 │          0.0101567  │      -1 │\n",
      "├─────┼─────────┼─────────┼─────────────────────┼─────────┤\n",
      "│   4 │ 2.00678 │ 2.00169 │          0.00254023 │      -1 │\n",
      "╘═════╧═════════╧═════════╧═════════════════════╧═════════╛\n"
     ]
    }
   ],
   "source": [
    "headers = [\"k\", \"xk\", \"g(xk)\", \"ek(xk)/abs(g(xk))\", \"p(xk)\"]\n",
    "points = iteracaolinear(4, g, 1e-2)\n",
    "print(tabulate(points, headers, tablefmt=\"fancy_grid\", floatfmt=\".8f\"))\n",
    "\n",
    "#TODO: eu continuo encontrando p = -1, acho que é porque o p está no denominador, por isso acho p = -1"
   ]
  },
  {
   "cell_type": "markdown",
   "metadata": {},
   "source": [
    "#TODO: fazer uma forma funcional disso, mas acho que vou ter que colocar como parâmetro a própria $g(x)$ e um chute inicial no intervalo que tenha convergência."
   ]
  }
 ],
 "metadata": {
  "kernelspec": {
   "display_name": "Python 3",
   "language": "python",
   "name": "python3"
  },
  "language_info": {
   "codemirror_mode": {
    "name": "ipython",
    "version": 3
   },
   "file_extension": ".py",
   "mimetype": "text/x-python",
   "name": "python",
   "nbconvert_exporter": "python",
   "pygments_lexer": "ipython3",
   "version": "3.10.12"
  }
 },
 "nbformat": 4,
 "nbformat_minor": 2
}
