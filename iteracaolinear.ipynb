{
 "cells": [
  {
   "cell_type": "code",
   "execution_count": 2,
   "metadata": {},
   "outputs": [],
   "source": [
    "import numpy as np\n",
    "import matplotlib.pyplot as plt\n",
    "from math import *\n",
    "from tabulate import tabulate"
   ]
  },
  {
   "cell_type": "markdown",
   "metadata": {},
   "source": [
    "No método da iteração linear temos como base transformar uma equação de raízes do tipo $f(x) = 0$ em uma equação do tipo $x = g(x)$. Termos a interceptação de um gráfico de $g(x)$ com a reta $h(x) = x$. Se pegarmos um ponto $x_0$ e pegarmos o correspondente de mesmo valor em $h(x)$ (no caso simplesmente o valor de $h(x)$) teremos um ponto mais próximo do ponto em que interceptam, ou seja, a solução de $f(x)$. Um dos requisitos é a função ter derivada segunda contínua no ponto $\\bar{x}$ (a solução de $f(x) = 0$) em certo intervalo, e também que $|g'(x)| = 0$. Chegamos a três conclusões:\n",
    "\n",
    "- a) A iteração $x_{k+1}$ pode ser realizada indefinidamente pois $x_k$ pertence ao intervalo em que as hipóteses são válidas.\n",
    "- b) $|x_k - \\bar{x}| \\rightarrow 0$\n",
    "- c) Se $g'(x) \\neq 0$ a sequência $(x_n)_{n = 0}^{+\\infty}$ converge monotonicamente. Se $g'(x) = 0$ e $g''(x) \\neq 0$ converge oscilando.\n",
    "\n",
    "\n",
    "- Será que essa função $g(x)$ encontramos somente analiticamente? Não vejo problema em encontrar analiticamente uma função dessas."
   ]
  },
  {
   "cell_type": "markdown",
   "metadata": {},
   "source": [
    "Exemplo: $g(x) = \\sqrt{x + 2}$, $g'(x) = \\frac{1}{2 \\sqrt{x + 2}}$, temos que $$\\frac{1}{2\\sqrt{x + 2}} \\le M,$$ escolhemos $M = 1$ então resolvemos a desigualdade e obtemos $x \\ge -1.75$."
   ]
  },
  {
   "cell_type": "markdown",
   "metadata": {},
   "source": [
    "É possível chegar em uma expressão para $p$ a partir do limite que define $p$ como a convergência do método.\n",
    "\n",
    "- Obtive $p = -1$ para todos as tabelas que montei, faz sentido visto que ele tá na parte inferior."
   ]
  },
  {
   "cell_type": "code",
   "execution_count": 5,
   "metadata": {},
   "outputs": [],
   "source": [
    "xk1 = lambda xk: sqrt(xk + 2)\n",
    "ek = lambda xk: abs(xk1(xk) - xk)\n",
    "pk = lambda xk: log(ek(xk1(xk))/ek(xk))/log(ek(xk)/ek(xk1(xk))) "
   ]
  },
  {
   "cell_type": "code",
   "execution_count": 17,
   "metadata": {},
   "outputs": [
    {
     "ename": "TypeError",
     "evalue": "list.append() takes exactly one argument (5 given)",
     "output_type": "error",
     "traceback": [
      "\u001b[0;31m---------------------------------------------------------------------------\u001b[0m",
      "\u001b[0;31mTypeError\u001b[0m                                 Traceback (most recent call last)",
      "Cell \u001b[0;32mIn[17], line 6\u001b[0m\n\u001b[1;32m      4\u001b[0m points \u001b[38;5;241m=\u001b[39m []\n\u001b[1;32m      5\u001b[0m \u001b[38;5;28;01mfor\u001b[39;00m k \u001b[38;5;129;01min\u001b[39;00m \u001b[38;5;28mrange\u001b[39m(\u001b[38;5;241m0\u001b[39m, maxiter):\n\u001b[0;32m----> 6\u001b[0m     \u001b[43mpoints\u001b[49m\u001b[38;5;241;43m.\u001b[39;49m\u001b[43mappend\u001b[49m\u001b[43m(\u001b[49m\u001b[43mk\u001b[49m\u001b[43m,\u001b[49m\u001b[43m \u001b[49m\u001b[43mxk\u001b[49m\u001b[43m,\u001b[49m\u001b[43m \u001b[49m\u001b[43mxk1\u001b[49m\u001b[43m(\u001b[49m\u001b[43mxk\u001b[49m\u001b[43m)\u001b[49m\u001b[43m,\u001b[49m\u001b[43m \u001b[49m\u001b[43mek\u001b[49m\u001b[43m(\u001b[49m\u001b[43mxk\u001b[49m\u001b[43m)\u001b[49m\u001b[38;5;241;43m/\u001b[39;49m\u001b[38;5;28;43mabs\u001b[39;49m\u001b[43m(\u001b[49m\u001b[43mxk1\u001b[49m\u001b[43m(\u001b[49m\u001b[43mxk\u001b[49m\u001b[43m)\u001b[49m\u001b[43m)\u001b[49m\u001b[43m,\u001b[49m\u001b[43m \u001b[49m\u001b[43mpk\u001b[49m\u001b[43m(\u001b[49m\u001b[43mxk\u001b[49m\u001b[43m)\u001b[49m\u001b[43m)\u001b[49m\n\u001b[1;32m      7\u001b[0m     \u001b[38;5;66;03m#print(\"k: %d, xk: %.5f, xk1: %.5f, ek: %.5f, pk: %.5f\"%(k, xk, xk1(xk), ek(xk)/abs(xk1(xk)), pk(xk)))\u001b[39;00m\n\u001b[1;32m      8\u001b[0m     \u001b[38;5;28;01mif\u001b[39;00m ek(xk)\u001b[38;5;241m/\u001b[39m\u001b[38;5;28mabs\u001b[39m(xk1(xk)) \u001b[38;5;241m<\u001b[39m\u001b[38;5;241m=\u001b[39m eps:\n",
      "\u001b[0;31mTypeError\u001b[0m: list.append() takes exactly one argument (5 given)"
     ]
    }
   ],
   "source": [
    "xk = 4\n",
    "eps = 0.01\n",
    "maxiter = 100\n",
    "points = []\n",
    "for k in range(0, maxiter):\n",
    "    points.append([k, xk, xk1(xk), ek(xk)/abs(xk1(xk)), pk(xk)])\n",
    "    #print(\"k: %d, xk: %.5f, xk1: %.5f, ek: %.5f, pk: %.5f\"%(k, xk, xk1(xk), ek(xk)/abs(xk1(xk)), pk(xk)))\n",
    "    if ek(xk)/abs(xk1(xk)) <= eps:\n",
    "        break\n",
    "   \n",
    "    xk = xk1(xk)\n",
    "\n",
    "headers = [\"k\", \"xk\", \"xk+1\", \"ek\", \"pk\"]\n",
    "print(tabulate(points, headers=headers, tablefmt=\"grid\", floatfmt=\".5f\"))"
   ]
  },
  {
   "cell_type": "markdown",
   "metadata": {},
   "source": [
    "#TODO: fazer uma forma funcional disso, mas acho que vou ter que colocar como parâmetro a própria $g(x)$ e um chute inicial no intervalo que tenha convergência."
   ]
  }
 ],
 "metadata": {
  "kernelspec": {
   "display_name": "Python 3",
   "language": "python",
   "name": "python3"
  },
  "language_info": {
   "codemirror_mode": {
    "name": "ipython",
    "version": 3
   },
   "file_extension": ".py",
   "mimetype": "text/x-python",
   "name": "python",
   "nbconvert_exporter": "python",
   "pygments_lexer": "ipython3",
   "version": "3.10.12"
  }
 },
 "nbformat": 4,
 "nbformat_minor": 2
}
