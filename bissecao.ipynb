{
 "cells": [
  {
   "cell_type": "code",
   "execution_count": 2,
   "metadata": {},
   "outputs": [],
   "source": [
    "import numpy as np\n",
    "import matplotlib.pyplot as plt\n",
    "from math import *\n",
    "# Essa biblioteca tabulate me permite criar tabelas com os passos das soluções e essas\n",
    "# tabelas quando printadas no terminal ficam com a formatação bonitinha\n",
    "from tabulate import tabulate"
   ]
  },
  {
   "cell_type": "code",
   "execution_count": 30,
   "metadata": {},
   "outputs": [],
   "source": [
    "eps = 1e-2\n",
    "f = lambda x: ((np.sin(x))/((x - 1)**2)) - 1\n",
    "max_iter = 100\n",
    "error_abs = lambda x, xk: abs(xk - x)\n",
    "error_rel = lambda x, xk: abs(xk - x)/abs(xk)\n",
    "a = 0\n",
    "b = 0.5"
   ]
  },
  {
   "cell_type": "code",
   "execution_count": 39,
   "metadata": {},
   "outputs": [],
   "source": [
    "def bissecao(f, a, b, eps, error_rel, error_abs, max_iter):\n",
    "    points = []\n",
    "    # aqui eu estou definindo o x anterior como o próprio a,\n",
    "    # mas nas proximas definições de x anterior vai ser o xk    \n",
    "    x = a\n",
    "\n",
    "    for i in range(max_iter):\n",
    "        xk = (a + b) / 2\n",
    "\n",
    "        points.append([i+1, a, b, xk, f(xk), error_abs(x, xk), error_rel(x, xk)])\n",
    "        if error_rel(x, xk) < eps:\n",
    "            return points\n",
    "\n",
    "        if f(a)*f(xk) < 0:\n",
    "            b = xk\n",
    "        elif f(a)*f(xk) > 0:\n",
    "            a = xk\n",
    "\n",
    "        x = xk\n",
    "    \n",
    "    return points\n"
   ]
  },
  {
   "cell_type": "code",
   "execution_count": 40,
   "metadata": {},
   "outputs": [
    {
     "name": "stdout",
     "output_type": "stream",
     "text": [
      "+-----+------------+------------+------------+-------------+-----------------+-----------------+\n",
      "|   k |          a |          b |          x |        f(x) |   Erro Absoluto |   Erro Relativo |\n",
      "+=====+============+============+============+=============+=================+=================+\n",
      "|   1 | 0.00000000 | 0.50000000 | 0.25000000 | -0.56017074 |      1.00000000 |      0.25000000 |\n",
      "+-----+------------+------------+------------+-------------+-----------------+-----------------+\n",
      "|   2 | 0.25000000 | 0.50000000 | 0.37500000 | -0.06234233 |      0.33333333 |      0.12500000 |\n",
      "+-----+------------+------------+------------+-------------+-----------------+-----------------+\n",
      "|   3 | 0.37500000 | 0.50000000 | 0.43750000 |  0.33902620 |      0.14285714 |      0.06250000 |\n",
      "+-----+------------+------------+------------+-------------+-----------------+-----------------+\n",
      "|   4 | 0.37500000 | 0.43750000 | 0.40625000 |  0.12091786 |      0.07692308 |      0.03125000 |\n",
      "+-----+------------+------------+------------+-------------+-----------------+-----------------+\n",
      "|   5 | 0.37500000 | 0.40625000 | 0.39062500 |  0.02539067 |      0.04000000 |      0.01562500 |\n",
      "+-----+------------+------------+------------+-------------+-----------------+-----------------+\n",
      "|   6 | 0.37500000 | 0.39062500 | 0.38281250 | -0.01939918 |      0.02040816 |      0.00781250 |\n",
      "+-----+------------+------------+------------+-------------+-----------------+-----------------+\n"
     ]
    }
   ],
   "source": [
    "# headers é o cabeçalho da tabela\n",
    "headers = [\"k\", \"a\", \"b\", \"x\", \"f(x)\", \"Erro Absoluto\", \"Erro Relativo\"]\n",
    "\n",
    "points = bissecao(f, a, b, eps, error_abs, error_rel, max_iter)\n",
    "# no final basta printar a tabela\n",
    "print(tabulate(points, headers=headers, tablefmt=\"grid\", floatfmt=\".8f\"))"
   ]
  },
  {
   "cell_type": "code",
   "execution_count": null,
   "metadata": {},
   "outputs": [],
   "source": []
  }
 ],
 "metadata": {
  "kernelspec": {
   "display_name": "Python 3",
   "language": "python",
   "name": "python3"
  },
  "language_info": {
   "codemirror_mode": {
    "name": "ipython",
    "version": 3
   },
   "file_extension": ".py",
   "mimetype": "text/x-python",
   "name": "python",
   "nbconvert_exporter": "python",
   "pygments_lexer": "ipython3",
   "version": "3.10.12"
  }
 },
 "nbformat": 4,
 "nbformat_minor": 2
}
