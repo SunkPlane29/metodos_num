{
 "cells": [
  {
   "cell_type": "code",
   "execution_count": 1,
   "metadata": {},
   "outputs": [],
   "source": [
    "import numpy as np\n",
    "import matplotlib.pyplot as plt\n",
    "from math import *\n",
    "from tabulate import tabulate"
   ]
  },
  {
   "cell_type": "code",
   "execution_count": 2,
   "metadata": {},
   "outputs": [],
   "source": [
    "f = lambda x: x**2 - x - 2\n",
    "derf = lambda x: 2*x - 1"
   ]
  },
  {
   "cell_type": "code",
   "execution_count": 3,
   "metadata": {},
   "outputs": [],
   "source": [
    "#NOTE: ele vai um além da precisão necessária, mas não vou mudar isso\n",
    "def secante(x0, x1, f, eps, max_iter=100):\n",
    "    xk = x0\n",
    "    xk1 = x1\n",
    "\n",
    "    xk2 = lambda xk, xk1: (xk*f(xk1) - xk1*f(xk))/(f(xk1) - f(xk))\n",
    "    ek = lambda xk, xk1: abs(xk - xk1)\n",
    "    points = []\n",
    "\n",
    "    for k in range(max_iter):\n",
    "        xk2_val = xk2(xk, xk1)\n",
    "        points.append([k, xk, xk1, xk2_val, f(xk2_val), ek(xk2_val, xk1)/abs(xk2_val)])\n",
    "        if ek(xk2_val, xk1) < eps:\n",
    "            break\n",
    "\n",
    "        xk = xk1\n",
    "        xk1 = xk2_val\n",
    "\n",
    "    return points"
   ]
  },
  {
   "cell_type": "code",
   "execution_count": 6,
   "metadata": {},
   "outputs": [
    {
     "name": "stdout",
     "output_type": "stream",
     "text": [
      "╒═════╤════════════╤════════════╤════════════╤═════════════╤═════════════════════╕\n",
      "│   k │         xk │        xk1 │        xk2 │      f(xk2) │   |xk2 - xk1|/|xk2| │\n",
      "╞═════╪════════════╪════════════╪════════════╪═════════════╪═════════════════════╡\n",
      "│   0 │ 1.00000000 │ 3.00000000 │ 1.66666667 │ -0.88888889 │          0.80000000 │\n",
      "├─────┼────────────┼────────────┼────────────┼─────────────┼─────────────────────┤\n",
      "│   1 │ 3.00000000 │ 1.66666667 │ 1.90909091 │ -0.26446281 │          0.12698413 │\n",
      "├─────┼────────────┼────────────┼────────────┼─────────────┼─────────────────────┤\n",
      "│   2 │ 1.66666667 │ 1.90909091 │ 2.01176471 │  0.03543253 │          0.05103668 │\n",
      "├─────┼────────────┼────────────┼────────────┼─────────────┼─────────────────────┤\n",
      "│   3 │ 1.90909091 │ 2.01176471 │ 1.99963383 │ -0.00109836 │          0.00606655 │\n",
      "├─────┼────────────┼────────────┼────────────┼─────────────┼─────────────────────┤\n",
      "│   4 │ 2.01176471 │ 1.99963383 │ 1.99999857 │ -0.00000429 │          0.00018237 │\n",
      "╘═════╧════════════╧════════════╧════════════╧═════════════╧═════════════════════╛\n"
     ]
    }
   ],
   "source": [
    "points = secante(1, 3, f, 1e-2)\n",
    "print(tabulate(points, headers=['k', 'xk', 'xk1', 'xk2', 'f(xk2)', '|xk2 - xk1|/|xk2|'], tablefmt='fancy_grid', floatfmt='.8f'))"
   ]
  },
  {
   "cell_type": "code",
   "execution_count": null,
   "metadata": {},
   "outputs": [],
   "source": []
  }
 ],
 "metadata": {
  "kernelspec": {
   "display_name": "Python 3",
   "language": "python",
   "name": "python3"
  },
  "language_info": {
   "codemirror_mode": {
    "name": "ipython",
    "version": 3
   },
   "file_extension": ".py",
   "mimetype": "text/x-python",
   "name": "python",
   "nbconvert_exporter": "python",
   "pygments_lexer": "ipython3",
   "version": "3.10.12"
  }
 },
 "nbformat": 4,
 "nbformat_minor": 2
}
