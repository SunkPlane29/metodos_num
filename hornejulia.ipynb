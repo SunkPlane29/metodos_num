{
 "cells": [
  {
   "cell_type": "code",
   "execution_count": 1,
   "metadata": {},
   "outputs": [
    {
     "data": {
      "text/plain": [
       "horne (generic function with 1 method)"
      ]
     },
     "metadata": {},
     "output_type": "display_data"
    }
   ],
   "source": [
    "function horne(an, x0)\n",
    "    n = length(an)\n",
    "    b = an[n]\n",
    "    for i = n-1:-1:1\n",
    "        b = an[i] + b*x0\n",
    "    end\n",
    "\n",
    "    return b\n",
    "end"
   ]
  },
  {
   "cell_type": "code",
   "execution_count": 17,
   "metadata": {},
   "outputs": [
    {
     "name": "stdout",
     "output_type": "stream",
     "text": [
      "  0.000029 seconds (98 allocations: 1.531 KiB)\n",
      "  0.000097 seconds (644 allocations: 10.062 KiB)\n"
     ]
    }
   ],
   "source": [
    "an = [1, 2, 3, 4, 5]\n",
    "\n",
    "@time begin \n",
    "    for x0 = 1:100\n",
    "        horne(an, x0)\n",
    "    end\n",
    "end\n",
    "\n",
    "@time begin \n",
    "    for x0 = 1:100\n",
    "        an[1] + an[2]*x0 + an[3]*x0^2 + an[4]*x0^3 + an[5]*x0^4\n",
    "    end\n",
    "end\n"
   ]
  },
  {
   "cell_type": "code",
   "execution_count": null,
   "metadata": {},
   "outputs": [],
   "source": []
  }
 ],
 "metadata": {
  "kernelspec": {
   "display_name": "Julia 1.10.2",
   "language": "julia",
   "name": "julia-1.10"
  },
  "language_info": {
   "file_extension": ".jl",
   "mimetype": "application/julia",
   "name": "julia",
   "version": "1.10.2"
  }
 },
 "nbformat": 4,
 "nbformat_minor": 2
}
