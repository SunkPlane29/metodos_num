{
 "cells": [
  {
   "cell_type": "code",
   "execution_count": 1,
   "metadata": {},
   "outputs": [
    {
     "data": {
      "text/plain": [
       "pk (generic function with 1 method)"
      ]
     },
     "metadata": {},
     "output_type": "display_data"
    }
   ],
   "source": [
    "xk1(xk) = sqrt(xk + 2)\n",
    "ek(xk) = abs(xk1(xk) - xk)\n",
    "pk(xk) = log(abs(ek(xk1(xk))/ek(xk)))/log(abs(ek(xk)/ek(xk1(xk))))"
   ]
  },
  {
   "cell_type": "code",
   "execution_count": 2,
   "metadata": {},
   "outputs": [
    {
     "name": "stdout",
     "output_type": "stream",
     "text": [
      "k: 0, xk: 4, xk1: 2.449489742783178, ek: 0.6329931618554522, pk: -1.0\n",
      "k: 1, xk: 2.449489742783178, xk1: 2.1093813649464095, ek: 0.1612360777850188, pk: -1.0\n",
      "k: 2, xk: 2.1093813649464095, xk1: 2.027160912445386, ek: 0.04055941094574473, pk: -1.0000000000000002\n",
      "k: 3, xk: 2.027160912445386, xk1: 2.006778740281396, ek: 0.010156661397126548, pk: -1.0\n",
      "k: 4, xk: 2.006778740281396, xk1: 2.001693967688716, ek: 0.00254023475853849, pk: -1.0\n"
     ]
    }
   ],
   "source": [
    "xk = 4\n",
    "eps = 0.01\n",
    "maxiter = 100\n",
    "for k = 0:maxiter\n",
    "    println(\"k: $k, xk: $xk, xk1: $(xk1(xk)), ek: $(ek(xk)/abs(xk1(xk))), pk: $(pk(xk))\")\n",
    "    if ek(xk)/abs(xk1(xk)) <= eps\n",
    "        break\n",
    "    end\n",
    "    xk = xk1(xk)\n",
    "end"
   ]
  },
  {
   "cell_type": "code",
   "execution_count": null,
   "metadata": {},
   "outputs": [],
   "source": []
  }
 ],
 "metadata": {
  "kernelspec": {
   "display_name": "Julia 1.10.2",
   "language": "julia",
   "name": "julia-1.10"
  },
  "language_info": {
   "file_extension": ".jl",
   "mimetype": "application/julia",
   "name": "julia",
   "version": "1.10.2"
  }
 },
 "nbformat": 4,
 "nbformat_minor": 2
}
