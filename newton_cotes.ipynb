{
 "cells": [
  {
   "cell_type": "code",
   "execution_count": 2,
   "metadata": {},
   "outputs": [],
   "source": [
    "import numpy as np\n",
    "import math\n",
    "from math import trunc"
   ]
  },
  {
   "cell_type": "code",
   "execution_count": 27,
   "metadata": {},
   "outputs": [],
   "source": [
    "def newtoncotes(f, a, b, n, m):\n",
    "    d = [2., 6., 8., 90., 288., 840., 17280., 28350.]\n",
    "    c = [1., 1., 4., 1., 3., 7., 32., 12., 19., 75., 50., 41., 216., 27., 272., 751., 3577., 1323., 2989., 28350., 989., 588., -928., 10496., -4540.]\n",
    "\n",
    "    conderro = 0\n",
    "    intgr = 0\n",
    "    \n",
    "    if n < 1 or n > 8:\n",
    "        conderro += 1\n",
    "    \n",
    "    if m % n != 0:\n",
    "        conderro += 1\n",
    "\n",
    "    if conderro != 0:\n",
    "        print(\"condERRO = %s\"%conderro)\n",
    "        return None\n",
    "\n",
    "    p = trunc(0.25*(n*(n + 2) + (n%2)))\n",
    "    h = (b - a)/m\n",
    "\n",
    "    for i in range(m+1):\n",
    "        x = a + i*h\n",
    "        y = f(x)\n",
    "        j = p + trunc(0.5*n - abs((i%n) - 0.5*n))\n",
    "        k = 1 + trunc((n - (i%n))/n) - trunc((m - (i%m))/m)\n",
    "        intgr += y*c[j]*k\n",
    "\n",
    "    intgr *= n*h/d[n-1]\n",
    "    \n",
    "    return intgr"
   ]
  },
  {
   "cell_type": "code",
   "execution_count": 28,
   "metadata": {},
   "outputs": [
    {
     "name": "stdout",
     "output_type": "stream",
     "text": [
      "9.414805533295496\n"
     ]
    }
   ],
   "source": [
    "f = lambda x: (1/3)*np.sqrt(36 - 4*x**2)\n",
    "print(newtoncotes(f, -3, 3, 1, 100))"
   ]
  }
 ],
 "metadata": {
  "kernelspec": {
   "display_name": "Python 3",
   "language": "python",
   "name": "python3"
  },
  "language_info": {
   "codemirror_mode": {
    "name": "ipython",
    "version": 3
   },
   "file_extension": ".py",
   "mimetype": "text/x-python",
   "name": "python",
   "nbconvert_exporter": "python",
   "pygments_lexer": "ipython3",
   "version": "3.10.12"
  }
 },
 "nbformat": 4,
 "nbformat_minor": 2
}
