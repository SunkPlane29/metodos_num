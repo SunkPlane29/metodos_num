{
 "cells": [
  {
   "cell_type": "markdown",
   "id": "8308972a",
   "metadata": {},
   "source": [
    "---\n",
    "---\n",
    "\n",
    "#### MTM1013 - MÉT. NUM.  ECOMPUTACIONAIS  _&emsp;_ _&emsp;_ _&emsp;_ _&emsp;_   _&ensp;_ _&nbsp;_  Prof. Charles R. P. Szinvelski\n",
    "###  _&emsp;_  _&emsp;_  _&emsp;_ _&emsp;_  _&emsp;_ _&emsp;_  QUESTÃO (02): SISTEMAS LINEARES \n",
    "\n",
    "#### 24/1s - UFSM  _&emsp;_  _&emsp;_ _&emsp;_  _&emsp;_  _&emsp;_  _&emsp;_ _&emsp;_  _&emsp;_ _&emsp;_ _&emsp;_   _&ensp;_  _&nbsp;_ _&nbsp;_ Data: 22/04/24 (Das 7h30min às 8h30min) \n",
    "#### Acadêmico: André Gonçalves da Silva  _&ensp;_ _&emsp;_ _&nbsp;_   Matrícula:  202210071     _&emsp;_ _&emsp;_  _&emsp;_ _&nbsp;_ Curso/Turma: 123/11\n",
    "\n",
    "---\n",
    "---"
   ]
  },
  {
   "cell_type": "markdown",
   "id": "19a3e4df",
   "metadata": {},
   "source": [
    "#### INSTRUÇÕES SOBRE A ELABORAÇÃO DOS ARQUIVOS\n",
    "\n",
    "A tarefa QUESTÃO (02) tem por finalidade a aplicação direta dos aspectos teóricos e práticos dos métodos numéricos e computacionais abordados na disciplina (Sistemas Lineares (Sistemas Triangulares e tratamento de matrizes) e recursos de programação em linguagem PYTHON 3 empregados nas respectivas implementaçãos). A produção do arquivo-resposta deverá seguir os moldes da produção dos arquivos respostas (formatos IPYNB e PDF e ambos deverão ser entregues via TAREFA aberta no MOODLE) para a QUESTÃO (02) de 22/04/2024.\n",
    "\n",
    "<u> OBSERVAÇÕES </u>\n",
    "\n",
    "- Salienta-se que observância da nomeação dos arquivos IPYNB e PDF (ver abaixo) e informações do cabeçalho (prencher devidamente) serão partes constituinte do escore (divisões sucessivas por 2):\n",
    "\n",
    "   - aa_ss_MTMxxxxTtt_Q0x_NomeSobrenome.ipynb;\n",
    "   - aa_ss_MTMxxxxTtt_Q0x_NomeSobrenome.pdf; \n",
    "\n",
    "- Os algoritmos que devem ser empregados para as implementações em linguagem PYTHON 3 e _testes de mesas_ são os algoritmos dados pelo material didático disponibilizado nos repositórios [MEGA](https://mega.nz/file/11sk1L4T#3isyksEZmWwo-fBnq2-XaCAjUQ7t-K8jf30P3m0wEbg) e [DRIVE](https://drive.google.com/file/d/1UWgdXksWXlOd880PWyMYGj2Jqlgeyu0b/view?usp=sharing) e AS RESOLUÇÕES NÃO PRODUZIDAS POR ESTES ALGORITMOS SERÃO DESCONSIDERADAS. Ressalta-se que os algoritmos do Material Didático são adequações dos algoritmos apresentados em Campos Filho (2018)[⁰] (ou BURDEN E FAYRES(2016)[¹]), e consequentemente estes algoritmos destas bibliografias poderão ser utilizados para a implementação;\n",
    "\n",
    "- A elaboração das questões buscará caracterizações personalizadas para cada aluno, fato que resultará em um diversificado conjunto de situações-testes para a exploração dos aspectos teóricos e práticos da disciplina em  detrimento, eventualmente, da aplicabilidade do tema abordado na questão.\n",
    "\n",
    "[⁰]: Filho, Frederico Ferreira C. Algoritmos Numéricos - Uma Abordagem Moderna de Cálculo Numérico, 3ª edição.  Grupo GEN, 2018. Disponível em: BSCCNE\n",
    "\n",
    "<!--- [Minha Biblioteca](https://integrada.minhabiblioteca.com.br/reader/books/9788521635659/epubcfi/6/2%5B%3Bvnd.vst.idref%3Dcover%5D!/4/2/2%4050:43), Grupo GEN, 2018. \n",
    "Ainda, há exemplares na BSCCNE.--->\n",
    "\n",
    "[¹] BURDEN, Richard L.; FAIRES, J D.; BURDEN, Annette M. Análise Numérica - Tradução da 10ª edição norte-americana. [Digite o Local da Editora]: Cengage Learning Brasil, 2016. E-book. ISBN 9788522123414. Disponível em: https://integrada.minhabiblioteca.com.br/#/books/9788522123414/. Acesso em: 18 abr. 2024.\n",
    "\n",
    "---"
   ]
  },
  {
   "cell_type": "markdown",
   "id": "a1a827c4",
   "metadata": {},
   "source": [
    "#### OBTENÇÃO DE DADOS PARA ELABORAÇÃO DAS QUESTÕES  \n",
    "\n",
    "Ao considerar o meu número de matrícula na UFSM, 3332882, monta-se a tabela\n",
    "\n",
    "|d1 |d2 |d3 |d4 |d5 |d6 |d7 |d8 |d9 |d10|\n",
    "|:-:|:-:|:-:|:-:|:-:|:-:|:-:|:-:|:-:|:-:|\n",
    "| 0 | 0 | 0 | 3 | 3 | 3 | 2 | 8 | 8 | 2 | \n",
    "\n",
    "\n",
    "e sobre essas informações, colocam-se as seguintes elaborações: \n",
    "\n",
    "(I) Com as informações da matrícula: \n",
    "\n",
    "- $A=|d9-d10|=|8-2|=6$, e se $A=0$, considere $A=2$;\n",
    "- $B=\\left \\lceil\\frac{d1+...+d4}{A} \\right\\rceil= \\left\\lceil \\frac{0+0+0+3}{6}\\right\\rceil=\\lceil 0,5 \\rceil = 1$;\n",
    "- $C=\\left\\lfloor\\frac{d5+d6+d7+d8}{A}\\right\\rfloor=\\left\\lfloor\\frac{3+3+2+8}{6}\\right\\rfloor=\\lfloor 2,67\\rfloor=2$. Se $C=0$ considere $C=1$;\n",
    "- $Dados=[A,B,C]=[6,1,2]$;\n",
    "\n",
    "Considere as informações acima, matrícula e demais dados, e monte o seguinte sistema linear:\n",
    "\n",
    "$$ \\left\\{ \\begin{aligned} (A)x + (d_1+d_2)y +(d_2+d_3)z & = (B) \\\\ (d_3+d_4) x + (B)y +(d_4+d_5)z & = (C)  \\\\  (d_5+d_6)x + (d_6+d_7)y + (C)z & = (A) \\end{aligned}\\right. \\Leftrightarrow \\left\\{ \\begin{aligned} 6 x & = 1 \\\\ 3 x + y +2z & = 2 \\\\  6x + 5y + 2z & = 6 \\end{aligned}\\right.. $$\n",
    "\n",
    "(Determinante via [WolframAlpha](https://www.wolframalpha.com/input?i=det%7B%7B8%2C0%2C0%7D%2C%7B3%2C1%2C2%7D%2C%7B6%2C5%2C2%7D%7D).)\n",
    "\n",
    "<!--- (II) Para gráficos pode-se usar as páginas tutoriais: [MATPLOLIB](https://matplotlib.org/stable/index.html), [SYMPY](https://www.tutorialspoint.com/sympy/sympy_plotting.htm) ou [SYMPY(2)](https://docs.sympy.org/latest/modules/plotting.html). --->\n"
   ]
  },
  {
   "cell_type": "markdown",
   "id": "9b1e63a8",
   "metadata": {},
   "source": [
    "---\n",
    "\n",
    "### QUESTÕES.\n",
    "\n",
    "**1) (0,5 ponto)** Faça o que se pede, a partir das intruções acima:\n",
    "\n",
    "   _&emsp;_ **1.1) (0,25 ponto [Dados])** Informe $Matricula=[d1,d2,d3,d4,d5,d6,d7,d8,d9,d10]$ e $Dados=[A,B,C]$) como listas;\n",
    "   \n",
    "   _&emsp;_ **1.2) (0,25 ponto [Dados])** Informe o Sistema Linear, na forma acordada, associado ao tratamento dos dados;\n",
    "   \n",
    "\n",
    "**2) (1,0 ponto)** A partir de 1.2), faça o que se pede:\n",
    "\n",
    " _&emsp;_ **2.1) (0,2 ponto)** Calcule os menores principais de $A \\: (|A_i|, \\; i=1,2)$;\n",
    " \n",
    " _&emsp;_ **2.2) (0,4 ponto)** Monte a decomposição LU da matriz dos coeficientes ($A=LU$);\n",
    " \n",
    " _&emsp;_ **2.3) (0,2 ponto)** Informe o Sistema Linear $Ly=b$ na forma de lista e na forma de matriz  ampliada acordada e resolva-o pela implementação desenvolvida em aula;\n",
    " \n",
    " _&emsp;_ **2.4) (0,2 ponto)** Informe o Sistema Linear $Ux=y$ na forma Informe o Sistema Linear $Ly=b$ na forma de lista e na forma de matriz  ampliada acordada e resolva-o pela implementação desenvolvida em aula;\n",
    " \n",
    " "
   ]
  },
  {
   "cell_type": "markdown",
   "id": "4f6153dd",
   "metadata": {},
   "source": [
    "---\n",
    "\n",
    "**OBSERVAÇÃO:** Colocar os documentos IPYNB e PDF da resolução no espaço TAREFA do MOODLE  aberta, caso queira entregar o arquivo-resposta com esses recursos computacionais. Caso se resolva via Google COLAB, colocar link compartilhado sem restrições de acesso e também o arquivo PDF associado.\n",
    "\n",
    "---"
   ]
  },
  {
   "cell_type": "code",
   "execution_count": 3,
   "id": "cda7bb7b",
   "metadata": {},
   "outputs": [],
   "source": [
    "import numpy as np\n",
    "from math import *"
   ]
  },
  {
   "cell_type": "markdown",
   "id": "8e7d52bf",
   "metadata": {},
   "source": [
    "# Código implementado (código geral, não específico do problema)"
   ]
  },
  {
   "cell_type": "code",
   "execution_count": 23,
   "id": "958d308b",
   "metadata": {},
   "outputs": [],
   "source": [
    "def elimination(A, b):\n",
    "    # junta a matriz A e o vetor b como uma coluna\n",
    "    M = np.concatenate((A, b), axis=1)\n",
    "\n",
    "    # para cada coluna k de 0 a n-1 (que no caso n-2), pois vamos transformar em tringular superior\n",
    "    # trabalhando coluna por coluna, primeiro zerando os elementos abaixo da diagonal principal\n",
    "    # na primeira coluna, depois na segunda, mas a ultima coluna não precisa ser zerada pois não\n",
    "    # existem elementos abaixo da diagonal principal\n",
    "    for k in range(0, M.shape[0]-1):\n",
    "        # para cada linha i de k+1 a n (que no caso n-1), começa em k+1 pois zeramos somente abaixo da diagonal principal\n",
    "        for i in range(k+1, M.shape[0]):\n",
    "            M[i] = M[i] - M[k] * M[i, k] / M[k, k]\n",
    "\n",
    "    # retorna a matriz A e o vetor b separadamente\n",
    "    return np.split(M, [M.shape[1]-1], axis=1)\n",
    "\n",
    "def STS(A, b):\n",
    "    n = len(b)\n",
    "    x = np.zeros(n)    \n",
    "\n",
    "    # i vai variar de n-1 a 0 (por isso o n-1 no primeiro argumento, -1 porque python vai ir até 0, e o último\n",
    "    # -1 diz que deve decrementar -1 de i a cada iteração), o resto será o que está a direita do x em questão,\n",
    "    # por isso j vai de i+1 a n (que no caso sera n-1)\n",
    "    for i in range(n-1, -1, -1):\n",
    "        rest = sum([A[i, j] * x[j] for j in range(i+1, n)])\n",
    "        # o .item() é para o numpy parar de reclamar\n",
    "        x[i] = (b[i] - rest).item() / A[i,i]\n",
    "    \n",
    "    return x\n",
    "\n",
    "def STI(A, b):\n",
    "    n = len(b)\n",
    "    x = np.zeros(n)\n",
    "\n",
    "    # i vai variar de 0 a n-1, o resto será o que está a esquerda do x em questão\n",
    "    # logo j vai de 0 a i-1 (é python, então tudo começa em 0 e vai até um valor antes do final)\n",
    "    for i in range(n):\n",
    "        rest = sum([A[i, j] * x[j] for j in range(i)])\n",
    "        x[i] = (b[i] - rest).item() / A[i,i]\n",
    "\n",
    "    return x\n",
    "\n",
    "def LUdecomp(A):\n",
    "    n = A.shape[0]\n",
    "    L = np.zeros((n, n))\n",
    "    U = np.zeros((n, n))\n",
    "\n",
    "    for i in range(n):\n",
    "        for j in range(i, n):\n",
    "            U[i, j] = A[i, j] - sum([L[i, k] * U[k, j] for k in range(i)])\n",
    "\n",
    "        # queria poder usar i aqui, mas com j fica melhor no código, para U o i significa a linha e j a coluna,\n",
    "        # para L o i significa a coluna e o j linha\n",
    "        for j in range(i+1, n):\n",
    "            L[j, i] = (A[j, i] - sum([L[j, k] * U[k, i] for k in range(i)]))/U[i,i]\n",
    "\n",
    "    L = np.identity(n) + L\n",
    "\n",
    "    return L, U\n",
    "\n",
    "def solveLU(A, b):\n",
    "    L, U = LUdecomp(A)\n",
    "\n",
    "    y = STI(L, b)\n",
    "    x = STS(U, y)\n",
    "\n",
    "    return x\n",
    "\n",
    "def formatough(A):\n",
    "    for i in range(A.shape[0]):\n",
    "        if len(A.shape) == 2:\n",
    "            for j in range(A.shape[1]):\n",
    "                print(\"[{0:^9}]\".format(\"%.3g\" % A[i,j]), end='')\n",
    "        else:\n",
    "            print(\"[{0:^9}]\".format(\"%.3g\" % A[i]), end='')\n",
    "\n",
    "        print()\n",
    "\n",
    "def printlist(M):\n",
    "    lista = []\n",
    "    for i in range(M.shape[0]):\n",
    "        lista.append(M[i].tolist())\n",
    "\n",
    "    print(lista)"
   ]
  },
  {
   "cell_type": "markdown",
   "id": "4fb6eab3",
   "metadata": {},
   "source": [
    "# Confecção dos dados e matriz (não é o gabarito ainda!). \n",
    "## Devido ao determinante da matriz original ser 0 eu troquei o elemento $m_{32}$ por $0$"
   ]
  },
  {
   "cell_type": "code",
   "execution_count": 9,
   "id": "dbcfbe0c",
   "metadata": {},
   "outputs": [
    {
     "name": "stdout",
     "output_type": "stream",
     "text": [
      "Matriz M dos coeficientes\n",
      "[    6    ][    2    ][    2    ]\n",
      "[    2    ][    1    ][    4    ]\n",
      "[    3    ][    0    ][    1    ]\n",
      "\n",
      "Vetor b\n",
      "[    1    ]\n",
      "[    1    ]\n",
      "[    6    ]\n"
     ]
    }
   ],
   "source": [
    "d1 = 0\n",
    "d2 = 2\n",
    "d3 = 0\n",
    "d4 = 2\n",
    "d5 = 2\n",
    "d6 = 1\n",
    "d7 = 0\n",
    "d8 = 0\n",
    "d9 = 7\n",
    "d10 = 1\n",
    "\n",
    "A = abs(d9 - d10)\n",
    "if A == 0:\n",
    "    A = 2\n",
    "\n",
    "B = ceil((d1 + d2 + d3 + d4)/A)\n",
    "\n",
    "C = floor((d5 + d6 + d7 + d8)/A)\n",
    "if C == 0:\n",
    "    C = 1\n",
    "\n",
    "m11 = A\n",
    "m12 = d1 + d2\n",
    "m13 = d2 + d3\n",
    "m21 = d3 + d4\n",
    "m22 = B\n",
    "m23 = d4 + d5\n",
    "m31 = d5 + d6\n",
    "# AVISO: troquei essa entrada da matriz por um zero para evitar um determinante nulo da matriz\n",
    "m32 = 0\n",
    "m33 = C\n",
    "b1 = B\n",
    "b2 = C\n",
    "b3 = A\n",
    "\n",
    "M = np.array([m11, m12, m13, m21, m22, m23, m31, m32, m33]).reshape(3,3)\n",
    "b = np.array([b1, b2, b3]).reshape(3,1)\n",
    "\n",
    "print(\"Matriz M dos coeficientes\")\n",
    "formatough(M)\n",
    "\n",
    "print()\n",
    "print(\"Vetor b\")\n",
    "formatough(b)"
   ]
  },
  {
   "cell_type": "markdown",
   "id": "86c8b1d3",
   "metadata": {},
   "source": [
    "Extraímos então o sistema de equações lineares $M \\vec{x} = \\vec{b}$ (troquei por M porque no código já existe um A):\n",
    "\n",
    "$$6x + 2y + 2z = 1 \\\\ 2x + y + 4z = 1 \\\\ 3x + z = 6$$"
   ]
  },
  {
   "cell_type": "code",
   "execution_count": 13,
   "id": "993ada3e",
   "metadata": {},
   "outputs": [
    {
     "name": "stdout",
     "output_type": "stream",
     "text": [
      "|M|:  20\n",
      "|M_1|:  6\n",
      "|M_2|:  2\n"
     ]
    }
   ],
   "source": [
    "Mdet = M[0,0]*(M[1,1]*M[2,2] - M[1,2]*M[2,1]) - M[0,1]*(M[1,0]*M[2,2] - M[1,2]*M[2,0]) + M[0,2]*(M[1,0]*M[2,1] - M[1,1]*M[2,0])\n",
    "Mminor1det = M[0,0]\n",
    "Mminor2det = M[0,0]*M[1,1] - M[0,1]*M[1,0]\n",
    "\n",
    "print(\"|M|: \", Mdet)\n",
    "print(\"|M_1|: \", Mminor1det)\n",
    "print(\"|M_2|: \", Mminor2det)"
   ]
  },
  {
   "cell_type": "code",
   "execution_count": 17,
   "id": "9f6d98b8",
   "metadata": {},
   "outputs": [
    {
     "name": "stdout",
     "output_type": "stream",
     "text": [
      "Matriz L:\n",
      "[    1    ][    0    ][    0    ]\n",
      "[  0.333  ][    1    ][    0    ]\n",
      "[   0.5   ][   -3    ][    1    ]\n",
      "\n",
      "Matriz U:\n",
      "[    6    ][    2    ][    2    ]\n",
      "[    0    ][  0.333  ][  3.33   ]\n",
      "[    0    ][    0    ][   10    ]\n",
      "\n",
      "L * U: \n",
      "[    6    ][    2    ][    2    ]\n",
      "[    2    ][    1    ][    4    ]\n",
      "[    3    ][ 3.7e-17 ][    1    ]\n"
     ]
    }
   ],
   "source": [
    "L, U = LUdecomp(M)\n",
    "\n",
    "print(\"Matriz L:\")\n",
    "formatough(L)\n",
    "\n",
    "print()\n",
    "print(\"Matriz U:\")\n",
    "formatough(U)\n",
    "\n",
    "print()\n",
    "print(\"L * U: \")\n",
    "# NOTA: deu um 10^(-17) no m_32, mas é basicamente 0\n",
    "formatough(L @ U)"
   ]
  },
  {
   "cell_type": "code",
   "execution_count": 28,
   "id": "c5826514",
   "metadata": {},
   "outputs": [
    {
     "name": "stdout",
     "output_type": "stream",
     "text": [
      "L b = y\n",
      "Como lista de listas: \n",
      "[[1.0, 0.0, 0.0, 1.0], [0.3333333333333333, 1.0, 0.0, 1.0], [0.5, -2.9999999999999996, 1.0, 6.0]]\n",
      "Como matriz ampliada padrão: \n",
      "[    1    ][    0    ][    0    ][    1    ]\n",
      "[  0.333  ][    1    ][    0    ][    1    ]\n",
      "[   0.5   ][   -3    ][    1    ][    6    ]\n",
      "\n",
      "U y = x\n",
      "[[6.0, 2.0, 2.0, 1.0], [0.0, 0.33333333333333337, 3.3333333333333335, 0.6666666666666667], [0.0, 0.0, 9.999999999999998, 7.5]]\n",
      "[    6    ][    2    ][    2    ][    1    ]\n",
      "[    0    ][  0.333  ][  3.33   ][  0.667  ]\n",
      "[    0    ][    0    ][   10    ][   7.5   ]\n",
      "\n"
     ]
    }
   ],
   "source": [
    "Lamp = np.concatenate((L, b), axis=1)\n",
    "print(\"L b = y\")\n",
    "print(\"Como lista de listas: \")\n",
    "printlist(Lamp)\n",
    "print(\"Como matriz ampliada padrão: \")\n",
    "formatough(Lamp)\n",
    "print()\n",
    "\n",
    "y = STI(L, b).reshape(3,1)\n",
    "Uamp = np.concatenate((U, y), axis=1)\n",
    "print(\"U y = x\")\n",
    "printlist(Uamp)\n",
    "formatough(Uamp)\n",
    "print()"
   ]
  },
  {
   "cell_type": "code",
   "execution_count": 32,
   "id": "db74443d",
   "metadata": {},
   "outputs": [
    {
     "name": "stdout",
     "output_type": "stream",
     "text": [
      "Finalmente a solução do sistema: \n",
      "[ 1.75 -5.5   0.75]\n"
     ]
    }
   ],
   "source": [
    "x = solveLU(M, b)\n",
    "print(\"Finalmente a solução do sistema: \")\n",
    "print(x)"
   ]
  },
  {
   "cell_type": "markdown",
   "id": "b04cc67d",
   "metadata": {},
   "source": [
    "# Gabarito"
   ]
  },
  {
   "cell_type": "markdown",
   "id": "c55afd43",
   "metadata": {},
   "source": [
    "## 1\n",
    "### 1.1"
   ]
  },
  {
   "cell_type": "code",
   "execution_count": 34,
   "id": "2299f716",
   "metadata": {},
   "outputs": [
    {
     "name": "stdout",
     "output_type": "stream",
     "text": [
      "Matrícula: [0, 2, 0, 2, 2, 1, 0, 0, 7, 1]\n",
      "Dados: [6, 1, 1]\n"
     ]
    }
   ],
   "source": [
    "print(\"Matrícula: %s\"%([d1, d2, d3, d4, d5, d6, d7, d8, d9, d10]))\n",
    "print(\"Dados: %s\"%([A, B, C]))"
   ]
  },
  {
   "cell_type": "markdown",
   "id": "4041500c",
   "metadata": {},
   "source": [
    "### 1.2\n",
    "troquei $m_{32}$ por $0$ para não dar determinante nulo"
   ]
  },
  {
   "cell_type": "markdown",
   "id": "af3f12c4",
   "metadata": {},
   "source": [
    "\\begin{equation}\\begin{aligned}\n",
    "6x + 2y + 2z &= 1 \\\\ \n",
    "2x + y + 4z &= 1 \\\\ \n",
    "3x + z &= 6\n",
    "\\end{aligned}\\end{equation}"
   ]
  },
  {
   "cell_type": "code",
   "execution_count": 36,
   "id": "41a4b71f",
   "metadata": {},
   "outputs": [
    {
     "name": "stdout",
     "output_type": "stream",
     "text": [
      "Sistema linear: \n",
      "[    6    ][    2    ][    2    ][    1    ]\n",
      "[    2    ][    1    ][    4    ][    1    ]\n",
      "[    3    ][    0    ][    1    ][    6    ]\n"
     ]
    }
   ],
   "source": [
    "Mamp = np.concatenate((M, b), axis=1)\n",
    "print(\"Sistema linear: \")\n",
    "formatough(Mamp)"
   ]
  },
  {
   "cell_type": "markdown",
   "id": "49bb8e6b",
   "metadata": {},
   "source": [
    "## 2\n",
    "### 2.1"
   ]
  },
  {
   "cell_type": "code",
   "execution_count": 35,
   "id": "d488d538",
   "metadata": {},
   "outputs": [
    {
     "name": "stdout",
     "output_type": "stream",
     "text": [
      "Menor principal |M_1|: 6\n",
      "Menor principal |M_2|: 2\n"
     ]
    }
   ],
   "source": [
    "print(\"Menor principal |M_1|: %s\"%Mminor1det)\n",
    "print(\"Menor principal |M_2|: %s\"%Mminor2det)"
   ]
  },
  {
   "cell_type": "markdown",
   "id": "49045507",
   "metadata": {},
   "source": [
    "### 2.2"
   ]
  },
  {
   "cell_type": "code",
   "execution_count": 38,
   "id": "1d520755",
   "metadata": {},
   "outputs": [
    {
     "name": "stdout",
     "output_type": "stream",
     "text": [
      "M = \n",
      "[    1    ][    0    ][    0    ]\n",
      "[  0.333  ][    1    ][    0    ]\n",
      "[   0.5   ][   -3    ][    1    ]\n",
      "*\n",
      "[    6    ][    2    ][    2    ]\n",
      "[    0    ][  0.333  ][  3.33   ]\n",
      "[    0    ][    0    ][   10    ]\n"
     ]
    }
   ],
   "source": [
    "print(\"M = \")\n",
    "formatough(L)\n",
    "print(\"*\")\n",
    "formatough(U)"
   ]
  },
  {
   "cell_type": "markdown",
   "id": "b13521ac",
   "metadata": {},
   "source": [
    "### 2.3"
   ]
  },
  {
   "cell_type": "code",
   "execution_count": 39,
   "id": "2603388c",
   "metadata": {},
   "outputs": [
    {
     "name": "stdout",
     "output_type": "stream",
     "text": [
      "Sistema linear L b = y\n",
      "\n",
      "Como lista de listas: \n",
      "[[1.0, 0.0, 0.0, 1.0], [0.3333333333333333, 1.0, 0.0, 1.0], [0.5, -2.9999999999999996, 1.0, 6.0]]\n",
      "\n",
      "Como matriz ampliada padrão: \n",
      "[    1    ][    0    ][    0    ][    1    ]\n",
      "[  0.333  ][    1    ][    0    ][    1    ]\n",
      "[   0.5   ][   -3    ][    1    ][    6    ]\n",
      "\n"
     ]
    }
   ],
   "source": [
    "Lamp = np.concatenate((L, b), axis=1)\n",
    "print(\"Sistema linear L b = y\")\n",
    "print()\n",
    "print(\"Como lista de listas: \")\n",
    "printlist(Lamp)\n",
    "print()\n",
    "print(\"Como matriz ampliada padrão: \")\n",
    "formatough(Lamp)\n",
    "print()"
   ]
  },
  {
   "cell_type": "markdown",
   "id": "6b757182",
   "metadata": {},
   "source": [
    "### 2.4"
   ]
  },
  {
   "cell_type": "code",
   "execution_count": 42,
   "id": "19305e52",
   "metadata": {},
   "outputs": [
    {
     "name": "stdout",
     "output_type": "stream",
     "text": [
      "Sistema linear U y = x\n",
      "\n",
      "Como lista de listas: \n",
      "[[6.0, 2.0, 2.0, 1.0], [0.0, 0.33333333333333337, 3.3333333333333335, 0.6666666666666667], [0.0, 0.0, 9.999999999999998, 7.5]]\n",
      "\n",
      "Como matriz ampliada padrão: \n",
      "[    6    ][    2    ][    2    ][    1    ]\n",
      "[    0    ][  0.333  ][  3.33   ][  0.667  ]\n",
      "[    0    ][    0    ][   10    ][   7.5   ]\n",
      "\n"
     ]
    }
   ],
   "source": [
    "y = STI(L, b).reshape(3,1)\n",
    "Uamp = np.concatenate((U, y), axis=1)\n",
    "print(\"Sistema linear U y = x\")\n",
    "print()\n",
    "print(\"Como lista de listas: \")\n",
    "printlist(Uamp)\n",
    "print()\n",
    "print(\"Como matriz ampliada padrão: \")\n",
    "formatough(Uamp)\n",
    "print()"
   ]
  },
  {
   "cell_type": "code",
   "execution_count": 46,
   "id": "852a2173",
   "metadata": {},
   "outputs": [
    {
     "name": "stdout",
     "output_type": "stream",
     "text": [
      "Solução do sistema M x = b: \n",
      "\n",
      "[  1.75   ]\n",
      "[  -5.5   ]\n",
      "[  0.75   ]\n"
     ]
    }
   ],
   "source": [
    "print(\"Solução do sistema M x = b: \")\n",
    "print()\n",
    "formatough(solveLU(M, b))"
   ]
  }
 ],
 "metadata": {
  "kernelspec": {
   "display_name": "Python 3 (ipykernel)",
   "language": "python",
   "name": "python3"
  },
  "language_info": {
   "codemirror_mode": {
    "name": "ipython",
    "version": 3
   },
   "file_extension": ".py",
   "mimetype": "text/x-python",
   "name": "python",
   "nbconvert_exporter": "python",
   "pygments_lexer": "ipython3",
   "version": "3.10.12"
  }
 },
 "nbformat": 4,
 "nbformat_minor": 5
}
