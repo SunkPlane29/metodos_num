{
 "cells": [
  {
   "cell_type": "code",
   "execution_count": 2,
   "metadata": {},
   "outputs": [
    {
     "data": {
      "text/plain": [
       "DescartesT (generic function with 1 method)"
      ]
     },
     "metadata": {},
     "output_type": "display_data"
    }
   ],
   "source": [
    "function DescartesT(an)\n",
    "    T = 0\n",
    "    for i = 1:length(an)-1\n",
    "        if an[i] * an[i+1] < 0\n",
    "            T += 1\n",
    "        end\n",
    "    end\n",
    "\n",
    "    return T\n",
    "end"
   ]
  },
  {
   "cell_type": "code",
   "execution_count": 7,
   "metadata": {},
   "outputs": [
    {
     "data": {
      "text/plain": [
       "cotalagrange (generic function with 1 method)"
      ]
     },
     "metadata": {},
     "output_type": "display_data"
    }
   ],
   "source": [
    "function Β(an)\n",
    "    B = 0\n",
    "    for i = 1:length(an)\n",
    "        if an[i] < 0 && abs(an[1]) > B\n",
    "            B = abs(an[i])\n",
    "        end\n",
    "    end\n",
    "\n",
    "    return B\n",
    "end\n",
    "\n",
    "function kval(an)\n",
    "    k = 0\n",
    "    for i = 0:length(an)-1\n",
    "        if an[i+1] < 0\n",
    "            k = i\n",
    "        end\n",
    "    end\n",
    "\n",
    "    return k\n",
    "end\n",
    "\n",
    "function cotalagrange(an)\n",
    "    n = length(an)\n",
    "    k = kval(an)\n",
    "    return 1 + (Β(an)/an[n])^(1/(n - k))\n",
    "end"
   ]
  },
  {
   "cell_type": "code",
   "execution_count": 9,
   "metadata": {},
   "outputs": [
    {
     "data": {
      "text/plain": [
       "0.75"
      ]
     },
     "metadata": {},
     "output_type": "display_data"
    }
   ],
   "source": [
    "cotalagrange([1, -1, 3, -4])"
   ]
  },
  {
   "cell_type": "code",
   "execution_count": null,
   "metadata": {},
   "outputs": [],
   "source": []
  }
 ],
 "metadata": {
  "kernelspec": {
   "display_name": "Julia 1.10.2",
   "language": "julia",
   "name": "julia-1.10"
  },
  "language_info": {
   "file_extension": ".jl",
   "mimetype": "application/julia",
   "name": "julia",
   "version": "1.10.2"
  }
 },
 "nbformat": 4,
 "nbformat_minor": 2
}
