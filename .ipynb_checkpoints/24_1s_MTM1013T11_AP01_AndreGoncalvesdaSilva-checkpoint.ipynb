{
 "cells": [
  {
   "cell_type": "markdown",
   "id": "6e5e6e4e",
   "metadata": {},
   "source": [
    "---\n",
    "---\n",
    "\n",
    "#### MTM1013 - MÉT. NUM. E COMPUTACIONAIS  _&emsp;_ _&emsp;_ _&emsp;_ _&emsp;_   _&ensp;_ _&nbsp;_  Prof. Charles R. P. Szinvelski\n",
    "###  _&emsp;_  _&emsp;_  _&emsp;_ _&emsp;_ _&emsp;_ _&emsp;_ _&emsp;_  _&nbsp;_ _&emsp;_ _&emsp;_ AP(01)\n",
    "\n",
    "#### 1s/UFSM  _&emsp;_ _&emsp;_ _&emsp;_ _&emsp;_  _&emsp;_  _&emsp;_  _&emsp;_ _&emsp;_  _&emsp;_ _&emsp;_ _&emsp;_ _&emsp;_ _&emsp;_ _&emsp;_ _&emsp;_  _&ensp;_ _&ensp;_   _&ensp;_  _&nbsp;_ _&nbsp;_ Período: 22-29/07/24 \n",
    "#### Acadêmico: André Gonçalves da Silva  _&ensp;_ _&emsp;_ _&nbsp;_   Matrícula:  202210071     _&emsp;_ _&emsp;_ _&nbsp;_ Curso/Turma: 123/11\n",
    "\n",
    "---\n",
    "---"
   ]
  },
  {
   "cell_type": "markdown",
   "id": "121d176e",
   "metadata": {},
   "source": [
    "As questões da Avaliação Parcial 01 (AP(01)) tem por finalidade a aplicação direta dos aspectos teóricos e práticos dos métodos numéricos abordados na disciplina (Zeros de Funções, Sistemas Lineares, Interpolação e recursos de programação em linguagem PYTHON 3 empregados nas respectivas implementaçãos e cálculo numérico). A produção do arquivo-resposta seguirá os moldes da produção dos arquivos dos enunciados, nos formatos IPYNB e PDF e ambos deverão ser entregues via TAREFA aberta no MOODLE para a AP(01) de 29/07/2024.\n",
    "\n",
    "<u> OBSERVAÇÕES </u>\n",
    "\n",
    "- Salienta-se que observância da nomeação dos arquivos IPYNB e PDF e informações do cabeçalho (prencher devidamente) serão partes constituinte do escore (divisões sucessivas por 2);\n",
    "\n",
    "- Os algoritmos que devem ser empregados para as implementações em linguagem PYTHON 3 e _testes de mesas_ são os algoritmos dados pelo material didático disponibilizado nos repositórios [MEGA](https://mega.nz/file/11sk1L4T#3isyksEZmWwo-fBnq2-XaCAjUQ7t-K8jf30P3m0wEbg) e [DRIVE](https://drive.google.com/file/d/1UWgdXksWXlOd880PWyMYGj2Jqlgeyu0b/view?usp=sharing)  e não os sendo as respostas serão desconsideradas. Ressalta-se que os algoritmos do Material Didático são adequações dos algoritmos apresentados em Campos Filho (2018)[⁰], os quais podem ser utilizados para a implementação;\n",
    "\n",
    "- A elaboração das questões buscará caracterizações personalizadas para cada aluno, fato que resultará em um diversificado conjunto de situações-testes para a exploração dos aspectos teóricos e práticos da disciplina em  detrimento, eventualmente, da aplicabilidade do tema abord\n",
    "ado na questão.\n",
    "\n",
    "[⁰]: Filho, Frederico Ferreira C. Algoritmos Numéricos - Uma Abordagem Moderna de Cálculo Numérico, 3ª edição. Disponível em: [Minha Biblioteca](https://integrada.minhabiblioteca.com.br/reader/books/9788521635659/epubcfi/6/2%5B%3Bvnd.vst.idref%3Dcover%5D!/4/2/2%4050:43), Grupo GEN, 2018. \n",
    "Ainda, há exemplares na BSCCNE.\n",
    "\n",
    "---"
   ]
  },
  {
   "cell_type": "markdown",
   "id": "2dc4c155",
   "metadata": {},
   "source": [
    "###### Obtenção de dados para elaboração das questões. \n",
    "\n",
    "\n",
    "Ao considerar o meu número de matrícula na UFSM, 3332882, monta-se a tabela\n",
    "\n",
    "|d1 |d2 |d3 |d4 |d5 |d6 |d7 |d8 |d9 |d10|\n",
    "|:-:|:-:|:-:|:-:|:-:|:-:|:-:|:-:|:-:|:-:|\n",
    "| 0 | 0 | 0 | 3 | 3 | 3 | 2 | 8 | 8 | 2 | \n",
    "\n",
    "\n",
    "e sobre essas informações, colocam-se as seguintes elaborações: \n",
    "\n",
    "(I) Com as informações da matrícula: \n",
    "\n",
    "- $aux=|d9-d10|=|8-2|=6$, e se $aux=0$, considere $aux=2$;\n",
    "- $p=\\left \\lceil\\frac{d1+...+d4}{aux} \\right\\rceil= \\left\\lceil \\frac{0+0+0+3}{6}\\right\\rceil=\\lceil 0,5 \\rceil = 1$;\n",
    "- $q=\\left\\lfloor\\frac{d5+d6+d7+d8}{aux}\\right\\rfloor=\\left\\lfloor\\frac{3+3+2+8}{6}\\right\\rfloor=\\lfloor 2,67\\rfloor=2$;\n",
    "- $DADOS=[aux,p,q]=[6,1,2]$;\n",
    "\n",
    "Montar a função $f$ definida em $(-\\infty,+\\infty)$:\n",
    "\n",
    "$$ \\begin{aligned} f(x)=\\exp{\\left(-p\\left|x\\right|\\right)}\\cos{(q|x|)}  &  \\overbrace{\\Leftrightarrow}^{DADOS}  f(x)=\\exp{\\left(-\\left|x\\right|\\right)}\\cos{(2|x|)} \\\\ {} &  \\; \\;  \\Leftrightarrow  \\; \\,f(x)=\\exp{\\left(-\\left|x\\right|\\right)}\\cos{(2x)} \\end{aligned} .$$\n",
    "\n",
    "   (Gráfico via [WolframAlpha](https://www.wolframalpha.com/input?i=plot+exp%28-%7Cx%7C%29cos%282%7Cx%7C%29%2C+x%3D-5+to+%2B5+and+y%3D-1+to+1) e a [simplificação da paridade](https://www.wolframalpha.com/input?i=plot+exp%28-%7Cx%7C%29cos%282x%29%2C+x%3D-5+to+%2B5+and+y%3D-1+to+1) de $\\cos$.)\n",
    "\n",
    "Uma aplicação dessa função está descrita no artigo: Uma  revisão  teórica  sobre  funções  de  Autocorrelação  aplicadas a altas e baixas Velocidades do vento (DEGRAZIA,2014)[¹].\n",
    "\n",
    "(II) Para $x \\geq 0$, e utilizando Séries de MacLaurin\n",
    "\n",
    "$$ \\begin{aligned} f(x)=\\exp{\\left(-x\\right)}\\cos{(2x)} & \\overbrace{\\approx}^{\\star} \\left(1-x+\\frac{x^2}{2}-\\frac{x^3}{6}\\right)\\left(1-2x^2\\right) \\\\ {   } & = \\frac{1}{3}x^5 - x^4 +\\frac{11}{6}x^3 - \\frac{3}{2} x^2  - x +1 = P_5(x) \\end{aligned} ;$$ \n",
    "\n",
    "$\\star$ A partir da expansão em Polinômio de MacLaurin de terceira ordem de cada função elementar que compõem a dunção $f$;\n",
    "\n",
    "Com coeficientes: $coef=[a_0,a_1,a_2,a_3,a_4,a_5]=[1,-1,-3/2,11/6,-1,1/3]$;\n",
    "\n",
    "(III) Considere as informações acima, matrícula e demais dados, e monte o Sistema Linear abaixo, dado na forma compacta:\n",
    "\n",
    "$$\\mbox{PDF}:=\\left\\{ \\begin{aligned} \\mbox{EDF}:= & \\: -\\left(1-\\frac{(h)}{2}p\\right)y_{i-1} +\\left[2+(h)^2q\\right]y_i-\\left(1+\\frac{(h)}{2}p\\right)y_{n+1}=-h^2 aux \\\\ \\mbox{CC(s)}:= & \\: \\{ y_0=y(x_0=0)=0, \\: y_5=y(x_5=1)=2 \\} \\: (h=0,2)\\end{aligned} \\right. $$\n",
    "\n",
    " $$ \\Rightarrow \\left\\{ \\begin{aligned} i=0: & \\: y_0=0 \\\\\n",
    "i=1: & \\: -\\left(1-\\frac{0,2}{2}1\\right) y_{0} +\\left[2+(0,2)^2 2\\right] y_{1} -\\left(1+\\frac{0,2}{2}1\\right) y_{2} = -(0,2)^2 6 \\\\\n",
    "i=2: & \\: -\\left(1-\\frac{0,2}{2}1\\right) y_{1} +\\left[2+(0,2)^2 2\\right] y_{2} -\\left(1+\\frac{0,2}{2}1\\right) y_{3} = -(0,2)^2 6 \\\\ \n",
    "i=3: & \\: -\\left(1-\\frac{0,2}{2}1\\right) y_{2} +\\left[2+(0,2)^2 2\\right] y_{3} -\\left(1+\\frac{0,2}{2}1\\right) y_{4} = -(0,2)^2 6 \\\\\n",
    "i=4: & \\: -\\left(1-\\frac{0,2}{2}1\\right) y_{3} +\\left[2+(0,2)^2 2\\right] y_{4} -\\left(1+\\frac{0,2}{2}1\\right) y_{5} = -(0,2)^2 6 \\\\          i=5: & \\: y_{5}=2 \n",
    "  \\end{aligned} \\right. \\Rightarrow \\left\\{ \\begin{aligned}  \n",
    "{} &   { }         +2,08 y_{1} -1,1 y_{2}  = -0,24 \\\\\n",
    "{} & -0,9 y_{1} +2,08 y_{2} -1,1 y_{3}  = -0,24  \\\\ \n",
    "{} & -0,9 y_{2} +2,08 y_{3} -1,1 y_{4}  = -0,24  \\\\ \n",
    "{} & -0,9 y_{3} +2,08 y_{4}   = +1,96  \\\\   \n",
    "\\end{aligned} \\right. .$$\n",
    "\n",
    "Onde a solução desse sistema representa o conjunto de pontos discretos:\n",
    "\n",
    "$$\\{(x_n,y_n)\\}_{n=0}^{5} \\equiv \\{(0,0),(0,2;y_1),(0,4;y_2);(0,6;y_3),(0,8;y_4),(1,2)\\},$$\n",
    "\n",
    "que por sua vez, representa a solução do Problema de Valor de Contorno de segunda ordem linear via fórmulas de derivadas finitas centrais:\n",
    "\n",
    "  $$ \\left\\{ \\begin{aligned} {  } & y''=p(x)y'+q(x)y+r(x), \\: x \\in [a,b] \\\\ { } & y(a)=\\alpha, \\: y(b)=\\beta \\: (h=\\Delta x)\\end{aligned}\\right.  \\overbrace{\\Leftrightarrow}^{Dados} \\left\\{ \\begin{aligned} {  } & y''=(1)y'+ (2) y+ (6), \\: x \\in [0,1] \\\\ { } & y(0)=0, \\: y(1)=2 \\: (h=0,2) \\end{aligned}\\right.  .$$ \n",
    "\n",
    "(IV) Para gráficos pode-se usar as páginas tutoriais: [MATPLOLIB](https://matplotlib.org/stable/index.html), [SYMPY](https://www.tutorialspoint.com/sympy/sympy_plotting.htm) ou [SYMPY(2)](https://docs.sympy.org/latest/modules/plotting.html).\n",
    "\n",
    "\n",
    "\n",
    "[¹]: DEGRAZIA _et al_. Uma  revisão  teórica  sobre  funções  de  Autocorrelação  aplicadas a altas e baixas Velocidades do vento. Ciência e Natura, Santa Maria, vol. 36, Ed. Especial, pg. 101-107, março, 2014. Disponível em: [< https://periodicos.ufsm.br/cienciaenatura/article/view/13222/pdf_1 >](https://periodicos.ufsm.br/cienciaenatura/article/view/13222/pdf_1). Acesso em: 14/05/2023. \n",
    "\n",
    "Burden, Richard, L. et al. Análise Numérica - Tradução da 10ª edição norte-americana. Disponível em: [Minha Biblioteca](https://integrada.minhabiblioteca.com.br/reader/books/9788522123414/pageid/785), (3rd edição). Cengage Learning Brasil, 2016. \n"
   ]
  },
  {
   "cell_type": "markdown",
   "id": "be0d1b44",
   "metadata": {},
   "source": [
    "---\n",
    "\n",
    "### QUESTÕES.\n",
    "\n",
    "**1) (1,0 ponto)** Faça o que se pede, a partir das intruções acima:\n",
    "\n",
    "   _&emsp;_ **1.1) (0,1 ponto [Dados])** Informe sua matrícula ($matricula=[d1,d2,d3,d4,d5,d6,d7,d8,d9,d10]$);\n",
    "   \n",
    "   _&emsp;_ **1.2) (0,3 ponto [Dados])** Monte a função $f$ associada e informe em forma de lista os dados obtidos ($DADOS$) e sua representação gráfica a partir de bibliotecas PYTHON (MatPlotLib e/ou SymPy);\n",
    "   \n",
    "   _&emsp;_ **1.3) (0,3 ponto [Dados])**  Monte o polinômio associado à $f$, conforme (II), para $x \\geq 0$ e informe os coeficientes do polinômio em forma de lista ($coef=[a_0,a_1,a_2,a_3,a_4,a_5]$) e faça a sua representação gráfica a partir de bibliotecas PYTHON (MatPlotLib e/ou SymPy);\n",
    "   \n",
    "   _&emsp;_ **1.4) (0,3 ponto [Dados])** Apresente os sistemas lineares de (III) e suas respectivas formas ampliadas para os dados postos;    \n",
    "\n",
    "**2) (1,0 ponto)** A partir dos dados em 1.2), determine o primeiro zero positivo da função $f$; \n",
    "\n",
    "\n",
    "**3) (1,0 ponto)** A partir dos dados em 1.3), faça o que se pede: \n",
    "   \n",
    "   _&emsp;_ **3.1) (0,5 ponto)** Determine a 1ª raiz positiva do polinômio;\n",
    "   \n",
    "   _&emsp;_ **3.2) (0,5 ponto)** Faça uma representação gráfica comparativa dos resultados obtidos em 2 e 3.1;  \n",
    "\n",
    "**4) (1,5 pontos)** Resolva o Sistema Linear dado, com o Método Numérico mais adequado. Na resolução deverá constar:\n",
    "\n",
    "   _&emsp;_  _&emsp;_  A Matriz Ampliada representando o Sistema Linear a ser resolvido;\n",
    "\n",
    "   _&emsp;_  _&emsp;_  O Método elegido, bem como os dados usuais de apresentação da resolução do sistema linear pelo método elegido;\n",
    "\n",
    "   _&emsp;_  _&emsp;_  A solução do Sistema Linear;\n",
    "\n",
    "\n",
    "**5) (1,0 pontos)** A partir dos procedimentos 4), faça o que se pede:\n",
    "\n",
    "   _&emsp;_ **5.1) (0,2 ponto)** Monte a tabela de pontos obtidos e gráfico de dispersão associado;\n",
    "\n",
    "   _&emsp;_ **5.2) (0,4 ponto)** Faça a estimativa em $x=0,5$ dessa função $f(x)$ tabelada;\n",
    "\n",
    "   _&emsp;_ **5.3) (0,4 ponto)** Represente graficamente os pontos tabelados, o valor estimado em 5.2) e também o gráfico contínuo dessa aproximação.\n",
    "\n",
    "**Observação:** Quantificação do escore da Questão 4;\n",
    "\n",
    " _&emsp;_ - Método adequado 100% do escore;\n",
    " \n",
    " _&emsp;_ - Método adequado possível 90% do escore;\n",
    " \n",
    " _&emsp;_ - Método possível 50% do escore;\n",
    " \n",
    " _&emsp;_ - Recurso computacional 20% do escore;\n",
    "\n",
    "\n",
    "---"
   ]
  },
  {
   "cell_type": "markdown",
   "id": "d49337fa",
   "metadata": {},
   "source": [
    "**OBSERVAÇÃO:** Colocar os documentos IPYNB e PDF da resolução no espaço TAREFA do MOODLE  aberta, caso queira entregar o arquivo-resposta com esses recursos computacionais. Caso se resolva via Google COLAB, colocar link compartilhado sem restrições de acesso e também o arquivo PDF associado.\n",
    "\n",
    "---"
   ]
  },
  {
   "cell_type": "code",
   "execution_count": 1,
   "id": "4d310cf9",
   "metadata": {},
   "outputs": [],
   "source": [
    "import numpy as np\n",
    "import math\n",
    "import matplotlib.pyplot as plt"
   ]
  },
  {
   "cell_type": "code",
   "execution_count": 2,
   "id": "7fe8db8a",
   "metadata": {},
   "outputs": [],
   "source": [
    "d1 = 0\n",
    "d2 = 2\n",
    "d3 = 0\n",
    "d4 = 2\n",
    "d5 = 2\n",
    "d6 = 1\n",
    "d7 = 0\n",
    "d8 = 0\n",
    "d9 = 7\n",
    "d10 = 1\n",
    "\n",
    "aux = abs(d9 - d10)\n",
    "if aux == 0:\n",
    "    aux = 2\n",
    "\n",
    "p = math.ceil((d1 + d2 + d3 + d4)/aux)\n",
    "q = math.floor((d5 + d6 + d7 + d8)/aux)\n",
    "if q == 0:\n",
    "    q = 1"
   ]
  },
  {
   "cell_type": "code",
   "execution_count": 3,
   "id": "b5efce13",
   "metadata": {},
   "outputs": [
    {
     "name": "stdout",
     "output_type": "stream",
     "text": [
      "matricula = [0, 2, 0, 2, 2, 1, 0, 0, 7, 1]\n",
      "DADOS = [6, 1, 1]\n"
     ]
    }
   ],
   "source": [
    "print(\"matricula = %s\"%([d1, d2, d3, d4, d5, d6, d7, d8, d9, d10]))\n",
    "print(\"DADOS = %s\"%([aux, p, q]))"
   ]
  },
  {
   "cell_type": "markdown",
   "id": "199470b9",
   "metadata": {},
   "source": [
    "A função $f$ fica definida então como: \n",
    "\n",
    "$$f(x) = exp(-p|x|) \\cos(q|x|) = exp(-|x|) \\cos(x)"
   ]
  },
  {
   "cell_type": "code",
   "execution_count": 4,
   "id": "bf3d9b65",
   "metadata": {},
   "outputs": [
    {
     "data": {
      "image/png": "[encoded data removed]",
      "text/plain": [
       "<Figure size 640x480 with 1 Axes>"
      ]
     },
     "metadata": {},
     "output_type": "display_data"
    }
   ],
   "source": [
    "xval = np.linspace(-5, 5, 1000)\n",
    "f = lambda x: np.exp(-p*np.abs(x))*np.cos(q*np.abs(x))\n",
    "yval = f(xval)\n",
    "\n",
    "plt.plot(xval, yval)\n",
    "plt.legend([\"f(x) = exp(-|x|) cos(x)\"])\n",
    "plt.xlabel(\"x\")\n",
    "plt.ylabel(\"f(x)\")\n",
    "plt.xlim(-5,5)\n",
    "plt.ylim(-0.75,1.25)\n",
    "plt.show()"
   ]
  },
  {
   "cell_type": "markdown",
   "id": "5a8d1fc0",
   "metadata": {},
   "source": [
    "Podemos expandir a função em série de MacLaurin (focando somente em $x \\ge 0$) em ordem 3, a partir do produto da expansão das funções que compõem ela:\n",
    "\n",
    "$$f(x) \\approx \\left( 1 - x + \\frac{x^2}{2} - \\frac{x^3}{6} \\right) \\left( 1 - \\frac{x^2}{2} \\right) = 1 - x + \\frac{x^3}{3} - \\frac{x^4}{4} + \\frac{x^5}{12}$$"
   ]
  },
  {
   "cell_type": "code",
   "execution_count": 5,
   "id": "7bfc8517",
   "metadata": {},
   "outputs": [],
   "source": [
    "a0 = 1.0\n",
    "a1 = -1.0\n",
    "a2 = 0.0\n",
    "a3 = 1.0/3.0\n",
    "a4 = -1.0/4.0\n",
    "a5 = 1.0/12.0\n",
    "\n",
    "coef = [a0, a1, a2, a3, a4, a5]"
   ]
  },
  {
   "cell_type": "code",
   "execution_count": 6,
   "id": "9d7626aa",
   "metadata": {},
   "outputs": [
    {
     "name": "stdout",
     "output_type": "stream",
     "text": [
      "coef = [1.0, -1.0, 0.0, 0.3333333333333333, -0.25, 0.08333333333333333]\n"
     ]
    }
   ],
   "source": [
    "print(\"coef = %s\"%coef)"
   ]
  },
  {
   "cell_type": "code",
   "execution_count": 7,
   "id": "46add704",
   "metadata": {},
   "outputs": [
    {
     "data": {
      "image/png": "[encoded data removed]",
      "text/plain": [
       "<Figure size 640x480 with 1 Axes>"
      ]
     },
     "metadata": {},
     "output_type": "display_data"
    }
   ],
   "source": [
    "fseries = lambda x: a0 + a1*x + a2*x**2 + a3*x**3 + a4*x**4 + a5*x**5\n",
    "yvalseries = fseries(xval)\n",
    "\n",
    "plt.plot(xval, yval)\n",
    "plt.plot(xval, yvalseries)\n",
    "plt.legend([\"f(x) = exp(-|x|) cos(x)\", \"Polinômio de MacLaurin\"])\n",
    "plt.xlabel(\"x\")\n",
    "plt.ylabel(\"f(x)\")\n",
    "plt.xlim(-5,5)\n",
    "plt.ylim(-0.75,1.25)\n",
    "plt.show()"
   ]
  },
  {
   "cell_type": "markdown",
   "id": "cee636b0",
   "metadata": {},
   "source": [
    "É possível ver que de fato para $x$ próximo de zero esse polinômio aproxima a função $f(x)$ (apesar de que futuramente no ponto onde temos a raiz não é tão próximo)."
   ]
  },
  {
   "cell_type": "markdown",
   "id": "d578cf9d",
   "metadata": {},
   "source": [
    "Vamos montar agora o sistema linear"
   ]
  },
  {
   "cell_type": "code",
   "execution_count": 8,
   "id": "fa5a0d5f",
   "metadata": {},
   "outputs": [
    {
     "name": "stdout",
     "output_type": "stream",
     "text": [
      "[[ 1.    0.    0.    0.    0.    0.  ]\n",
      " [-0.    2.04 -1.1   0.    0.    0.  ]\n",
      " [ 0.   -0.9   2.04 -1.1   0.    0.  ]\n",
      " [ 0.    0.   -0.9   2.04 -1.1   0.  ]\n",
      " [ 0.    0.    0.   -0.9   2.04  0.  ]\n",
      " [ 0.    0.    0.    0.    0.    1.  ]]\n",
      "[[ 0.  ]\n",
      " [-0.24]\n",
      " [-0.24]\n",
      " [-0.24]\n",
      " [ 1.96]\n",
      " [ 2.  ]]\n"
     ]
    }
   ],
   "source": [
    "M = np.zeros((6,6))\n",
    "b = np.zeros((6,1))\n",
    "\n",
    "h = 0.2\n",
    "ytemp = [0.0, 1.0, 1.0, 1.0, 1.0, 2.0]\n",
    "\n",
    "for i in range(1,5):\n",
    "    M[i,i-1] = -(1.0 - (h/2.0)*p)*ytemp[i-1]\n",
    "    M[i,i] = (2.0 + (h**2)*q)*ytemp[i] \n",
    "    M[i,i+1] = -(1.0 + + (h/2.0)*p)*ytemp[i+1]\n",
    "    b[i] = -(h**2)*aux\n",
    "\n",
    "M[0,0] = 1.0\n",
    "M[5,5] = 1.0\n",
    "\n",
    "M[4,5] = 0.0\n",
    "b[4] = -(h**2)*aux + (1.0 + (h/2.0)*p)*ytemp[5]\n",
    "\n",
    "b[5] = 2.0\n",
    "\n",
    "print(M)\n",
    "print(b)"
   ]
  },
  {
   "cell_type": "markdown",
   "id": "7698b78d",
   "metadata": {},
   "source": [
    "Importando o código de sistemas lineares que escrevi..."
   ]
  },
  {
   "cell_type": "code",
   "execution_count": 9,
   "id": "6cd63ded",
   "metadata": {},
   "outputs": [],
   "source": [
    "def elimination(A, b):\n",
    "    # junta a matriz A e o vetor b como uma coluna\n",
    "    M = np.concatenate((A, b), axis=1)\n",
    "\n",
    "    # para cada coluna k de 0 a n-1 (que no caso n-2), pois vamos transformar em tringular superior\n",
    "    # trabalhando coluna por coluna, primeiro zerando os elementos abaixo da diagonal principal\n",
    "    # na primeira coluna, depois na segunda, mas a ultima coluna não precisa ser zerada pois não\n",
    "    # existem elementos abaixo da diagonal principal\n",
    "    for k in range(0, M.shape[0]-1):\n",
    "        # para cada linha i de k+1 a n (que no caso n-1), começa em k+1 pois zeramos somente abaixo da diagonal principal\n",
    "        for i in range(k+1, M.shape[0]):\n",
    "            M[i] = M[i] - M[k] * M[i, k] / M[k, k]\n",
    "\n",
    "    # retorna a matriz A e o vetor b separadamente\n",
    "    return np.split(M, [M.shape[1]-1], axis=1)\n",
    "\n",
    "def STS(A, b):\n",
    "    n = len(b)\n",
    "    x = np.zeros(n)    \n",
    "\n",
    "    # i vai variar de n-1 a 0 (por isso o n-1 no primeiro argumento, -1 porque python vai ir até 0, e o último\n",
    "    # -1 diz que deve decrementar -1 de i a cada iteração), o resto será o que está a direita do x em questão,\n",
    "    # por isso j vai de i+1 a n (que no caso sera n-1)\n",
    "    for i in range(n-1, -1, -1):\n",
    "        rest = sum([A[i, j] * x[j] for j in range(i+1, n)])\n",
    "        # o .item() é para o numpy parar de reclamar\n",
    "        x[i] = (b[i] - rest).item() / A[i,i]\n",
    "    \n",
    "    return x\n",
    "\n",
    "def STI(A, b):\n",
    "    n = len(b)\n",
    "    x = np.zeros(n)\n",
    "\n",
    "    # i vai variar de 0 a n-1, o resto será o que está a esquerda do x em questão\n",
    "    # logo j vai de 0 a i-1 (é python, então tudo começa em 0 e vai até um valor antes do final)\n",
    "    for i in range(n):\n",
    "        rest = sum([A[i, j] * x[j] for j in range(i)])\n",
    "        x[i] = (b[i] - rest).item() / A[i,i]\n",
    "\n",
    "    return x\n",
    "\n",
    "def LUdecomp(A):\n",
    "    n = A.shape[0]\n",
    "    L = np.zeros((n, n))\n",
    "    U = np.zeros((n, n))\n",
    "\n",
    "    for i in range(n):\n",
    "        for j in range(i, n):\n",
    "            U[i, j] = A[i, j] - sum([L[i, k] * U[k, j] for k in range(i)])\n",
    "\n",
    "        # queria poder usar i aqui, mas com j fica melhor no código, para U o i significa a linha e j a coluna,\n",
    "        # para L o i significa a coluna e o j linha\n",
    "        for j in range(i+1, n):\n",
    "            L[j, i] = (A[j, i] - sum([L[j, k] * U[k, i] for k in range(i)]))/U[i,i]\n",
    "\n",
    "    L = np.identity(n) + L\n",
    "\n",
    "    return L, U\n",
    "\n",
    "def solveLU(A, b):\n",
    "    L, U = LUdecomp(A)\n",
    "\n",
    "    y = STI(L, b)\n",
    "    x = STS(U, y)\n",
    "\n",
    "    return x\n",
    "\n",
    "def partialpivot(A):\n",
    "    P = np.identity(A.shape[0])\n",
    "    for i in range(Anew.shape[0]-1):\n",
    "        biggestindex = i\n",
    "        for j in range(i+1, Anew.shape[0]):\n",
    "            if abs(Anew[j,0]) > abs(Anew[biggestindex,0]):\n",
    "                biggestindex = j\n",
    "        \n",
    "        temp = np.copy(P[i,:])\n",
    "        P[i,:] = P[biggestindex,:]\n",
    "        P[biggestindex,:] = temp\n",
    "\n",
    "    return P\n",
    "\n",
    "def positivedefinite(A):\n",
    "    for i in range(A.shape[0]):\n",
    "        if np.linalg.det(A[:i+1,:i+1]) <= 0:\n",
    "            return False\n",
    "\n",
    "    return True\n",
    "\n",
    "def cholesky(A):\n",
    "    if not positivedefinite(A):\n",
    "        return None\n",
    "\n",
    "    G = np.zeros(A.shape)\n",
    "    G[0,0] = np.sqrt(A[0,0])\n",
    "\n",
    "    for j in range(A.shape[0]):\n",
    "        if j != 0:\n",
    "            G[j,j] = np.sqrt(A[j,j] - sum([G[j,k]**2 for k in range(i)]))       \n",
    "\n",
    "        for i in range(j+1, A.shape[0]):\n",
    "            if j == 0:\n",
    "                G[i,j] = A[i,j] / G[0,0]\n",
    "            \n",
    "            else:\n",
    "                G[i,j] = (A[i,j] - sum([G[i,k]*G[j,k] for k in range(j)]))/G[j,j]\n",
    "        \n",
    "    return G\n",
    "\n",
    "def solvecholesky(A, b):\n",
    "    G = cholesky(A)\n",
    "    if G is None:\n",
    "        return None\n",
    "\n",
    "    y = STI(G, b)\n",
    "    x = STS(G.T, y)\n",
    "\n",
    "    return x\n",
    "\n",
    "def nulldiagonalelem(m):\n",
    "    for i in range(len(m[1,:])):\n",
    "        if m[i,i] == 0:\n",
    "            return True\n",
    "    return False\n",
    "\n",
    "def diagonaldominant(m):\n",
    "    for i in range(len(m[1,:])):\n",
    "        sum = 0.0\n",
    "        for j in range(len(m[1,:])):\n",
    "            if i != j:\n",
    "                sum += abs(m[i,j])\n",
    "\n",
    "        if abs(m[i,i]) <= sum:\n",
    "            return False\n",
    "\n",
    "    return True\n",
    "\n",
    "def linecolcriterium(m):\n",
    "    for i in range(len(m[1,:])):\n",
    "        sum = 0.0\n",
    "        for j in range(len(m[1,:])):\n",
    "            if i != j:\n",
    "                sum += abs(m[i,j])\n",
    "            \n",
    "        if sum >= 1:\n",
    "            return False\n",
    "\n",
    "    return True\n",
    "\n",
    "def getLR(m):\n",
    "    mnew = np.copy(m)\n",
    "    for i in range(len(m[:,1])):\n",
    "        mnew[i,:] = - mnew[i,:] / m[i,i]\n",
    "        mnew[i,-1] = -mnew[i,-1]\n",
    "        mnew[i,i] = 0\n",
    "\n",
    "    return mnew\n",
    "\n",
    "def converges(m):\n",
    "    #always necessary\n",
    "    if np.linalg.det(m) == 0:\n",
    "        return False\n",
    "\n",
    "    #not always necessary\n",
    "    if nulldiagonalelem(m):\n",
    "        return False\n",
    "\n",
    "    mnew = getLR(m) \n",
    "\n",
    "    if diagonaldominant(m) or linecolcriterium(mnew) or linecolcriterium(mnew.T):\n",
    "        return True  \n",
    "\n",
    "    return False\n",
    "\n",
    "def formatacaough(A):\n",
    "    for i in range(A.shape[0]):\n",
    "        if len(A.shape) == 2:\n",
    "            for j in range(A.shape[1]):\n",
    "                print(\"[{0:^9}]\".format(\"%.3g\" % A[i,j]), end='')\n",
    "        else:\n",
    "            print(\"[{0:^9}]\".format(\"%.3g\" % A[i]), end='')\n",
    "\n",
    "        print()\n",
    "\n",
    "def getLR(m):\n",
    "    mnew = np.copy(m)\n",
    "    for i in range(len(m[:,1])):\n",
    "        mnew[i,:] = - mnew[i,:] / m[i,i]\n",
    "        mnew[i,-1] = -mnew[i,-1]\n",
    "        mnew[i,i] = 0\n",
    "\n",
    "    return mnew\n",
    "\n",
    "def getamp(m, b):\n",
    "    return np.append(m, b[:,np.newaxis], axis=1)\n",
    "\n",
    "def converges(m):\n",
    "    if np.linalg.det(m) == 0:\n",
    "        return False\n",
    "\n",
    "    if nulldiagonalelem(m):\n",
    "        return False\n",
    "\n",
    "    mnew = getLR(m) \n",
    "\n",
    "    if diagonaldominant(m) or linecolcriterium(mnew) or linecolcriterium(mnew.T):\n",
    "        return True  \n",
    "\n",
    "    return False\n",
    "\n",
    "def reltol(x1, x0):\n",
    "    max = 0.0\n",
    "\n",
    "    for i in range(len(x1)):\n",
    "        if x0[i] == 0:\n",
    "            if abs(x1[i] - x0[i]) > max:\n",
    "                max = abs(x1[i] - x0[i])\n",
    "                continue\n",
    "        else:\n",
    "            if abs(x1[i] - x0[i])/abs(x0[i]) > max:\n",
    "                max = abs(x1[i] - x0[i])/abs(x0[i])  \n",
    "\n",
    "    return max\n",
    "\n",
    "def stepJacobiRichardson(LRb, x):\n",
    "    LR = LRb[:,:-1]\n",
    "    b = LRb[:,-1]\n",
    "\n",
    "    return LR.dot(x) + b\n",
    "\n",
    "def stepGaussSeidel(LRb, x):\n",
    "    LR = LRb[:,:-1]\n",
    "    b = LRb[:,-1]\n",
    "    L = np.tril(LR)\n",
    "    R = np.triu(LR)\n",
    "\n",
    "    xnew = np.zeros(len(x))\n",
    "\n",
    "    for i in range(len(x)):\n",
    "        xnew[i] = L[i,:].dot(xnew) + R[i,:].dot(x) + b[i]\n",
    "\n",
    "    return xnew\n",
    "\n",
    "def solveJacobiRichardson(m, b, maxiter=100000, rtol=1e-4):\n",
    "    if not converges(m):\n",
    "        return None\n",
    "\n",
    "    mamp = getamp(m, b)\n",
    "    LRb = getLR(mamp)\n",
    "    x0 = LRb[:,-1]\n",
    "    x2 = np.copy(x0)\n",
    "    x1 = np.copy(x0)\n",
    "\n",
    "    for i in range(maxiter):\n",
    "        x2 = stepJacobiRichardson(LRb, x1)\n",
    "        if reltol(x2, x1) < rtol:\n",
    "            return x2\n",
    "            \n",
    "        x1 = np.copy(x2)\n",
    "\n",
    "    return x2\n",
    "\n",
    "def solveGaussSeidel(m, b, maxiter=100000, rtol=1e-4):\n",
    "    if not converges(m):\n",
    "        return None\n",
    "\n",
    "    mamp = getamp(m, b)\n",
    "    LRb = getLR(mamp)\n",
    "    x0 = LRb[:,-1]\n",
    "    x2 = np.copy(x0)\n",
    "    x1 = np.copy(x0)\n",
    "\n",
    "    for i in range(maxiter):\n",
    "        x2 = stepGaussSeidel(LRb, x1)\n",
    "        if reltol(x2, x1) < rtol:\n",
    "            return x2\n",
    "            \n",
    "        x1 = np.copy(x2)\n",
    "\n",
    "    return x2"
   ]
  },
  {
   "cell_type": "code",
   "execution_count": 10,
   "id": "e84ab8a1",
   "metadata": {},
   "outputs": [
    {
     "name": "stdout",
     "output_type": "stream",
     "text": [
      "[    1    ][    0    ][    0    ][    0    ][    0    ][    0    ][    0    ]\n",
      "[   -0    ][  2.04   ][  -1.1   ][    0    ][    0    ][    0    ][  -0.24  ]\n",
      "[    0    ][  -0.9   ][  2.04   ][  -1.1   ][    0    ][    0    ][  -0.24  ]\n",
      "[    0    ][    0    ][  -0.9   ][  2.04   ][  -1.1   ][    0    ][  -0.24  ]\n",
      "[    0    ][    0    ][    0    ][  -0.9   ][  2.04   ][    0    ][  1.96   ]\n",
      "[    0    ][    0    ][    0    ][    0    ][    0    ][    1    ][    2    ]\n"
     ]
    }
   ],
   "source": [
    "formatacaough(np.concatenate((M, b), axis=1))"
   ]
  },
  {
   "cell_type": "markdown",
   "id": "0cffcf16",
   "metadata": {},
   "source": [
    "Importando o código de encontrar raízes que escrevi também..."
   ]
  },
  {
   "cell_type": "code",
   "execution_count": 11,
   "id": "3f0892bd",
   "metadata": {},
   "outputs": [],
   "source": [
    "def newton(f, derf, x0, eps, maxiter=100):\n",
    "    xk = x0\n",
    "    xk1 = lambda xk: xk - f(xk)/derf(xk)\n",
    "    ek = lambda xk1, xk: abs(xk1 - xk)\n",
    "    \n",
    "    points = []\n",
    "    for k in range(maxiter):\n",
    "        xk1_val = xk1(xk)\n",
    "        points.append([k, xk, xk1_val, f(xk1_val), ek(xk1_val, xk)/abs(xk1_val)])\n",
    "\n",
    "        if ek(xk1_val, xk)/abs(xk1_val) < eps:\n",
    "            break\n",
    "\n",
    "        xk = xk1_val\n",
    "    \n",
    "    return points"
   ]
  },
  {
   "cell_type": "markdown",
   "id": "87dbe425",
   "metadata": {},
   "source": [
    "Temos que dar a derivada da função (nesse caso calculada analiticamente) juntamente com um chute inicial e uma precisão para encontrar raízes com o método de Newton:"
   ]
  },
  {
   "cell_type": "code",
   "execution_count": 12,
   "id": "753067c5",
   "metadata": {},
   "outputs": [
    {
     "name": "stdout",
     "output_type": "stream",
     "text": [
      "1.5707963267947156\n",
      "3.763193775116818e-14\n"
     ]
    }
   ],
   "source": [
    "derf = lambda x: -p*np.exp(-p*np.abs(x))*np.cos(q*np.abs(x)) - q*np.exp(-p*np.abs(x))*np.sin(q*np.abs(x))\n",
    "x0 = 1.0\n",
    "eps = 1e-8\n",
    "\n",
    "points = newton(f, derf, x0, eps)\n",
    "print(points[-1][1])\n",
    "print(f(points[-1][1]))"
   ]
  },
  {
   "cell_type": "markdown",
   "id": "532667dc",
   "metadata": {},
   "source": [
    "Encontrei a primeira raiz positiva da função que, aproximando até a segunda casa decimal, é:\n",
    "\n",
    "$$x = 1.57$$"
   ]
  },
  {
   "cell_type": "code",
   "execution_count": 13,
   "id": "961bb8a7",
   "metadata": {},
   "outputs": [
    {
     "name": "stdout",
     "output_type": "stream",
     "text": [
      "1.4142135623730931\n",
      "2.7755575615628914e-16\n"
     ]
    }
   ],
   "source": [
    "derfseries = lambda x: a1 + 2*a2*x + 3*a3*x**2 + 4*a4*x**3 + 5*a5*x**4\n",
    "pointseries = newton(fseries, derfseries, x0, eps)\n",
    "print(pointseries[-1][1])\n",
    "print(fseries(pointseries[-1][1]))"
   ]
  },
  {
   "cell_type": "markdown",
   "id": "6f9e9354",
   "metadata": {},
   "source": [
    "Encontrei a primeira raiz da expansão truncada da função que, aproximando até a segunda casa decimal, é:\n",
    "\n",
    "$$x = 1.41$$"
   ]
  },
  {
   "cell_type": "code",
   "execution_count": 14,
   "id": "5570c35a",
   "metadata": {},
   "outputs": [
    {
     "data": {
      "image/png": "[encoded data removed]",
      "text/plain": [
       "<Figure size 640x480 with 1 Axes>"
      ]
     },
     "metadata": {},
     "output_type": "display_data"
    }
   ],
   "source": [
    "plt.plot(xval, yval)\n",
    "plt.plot(xval, yvalseries)\n",
    "plt.plot(points[-1][1], f(points[-1][1]), 'ro')\n",
    "plt.plot(pointseries[-1][1], fseries(pointseries[-1][1]), 'go')\n",
    "plt.legend([\"f(x) = exp(-|x|) cos(x)\", \"Polinômio de MacLaurin\", \"Raiz da função\", \"Raiz do polinômio\"])\n",
    "plt.xlabel(\"x\")\n",
    "plt.ylabel(\"f(x)\")\n",
    "plt.xlim(-5,5)\n",
    "plt.ylim(-0.75,1.25)\n",
    "plt.show()"
   ]
  },
  {
   "cell_type": "markdown",
   "id": "51640ff4",
   "metadata": {},
   "source": [
    "Retornando ao sistema linear que preciso resolver:"
   ]
  },
  {
   "cell_type": "code",
   "execution_count": 15,
   "id": "f093526c",
   "metadata": {},
   "outputs": [
    {
     "name": "stdout",
     "output_type": "stream",
     "text": [
      "[    1    ][    0    ][    0    ][    0    ][    0    ][    0    ][    0    ]\n",
      "[   -0    ][  2.04   ][  -1.1   ][    0    ][    0    ][    0    ][  -0.24  ]\n",
      "[    0    ][  -0.9   ][  2.04   ][  -1.1   ][    0    ][    0    ][  -0.24  ]\n",
      "[    0    ][    0    ][  -0.9   ][  2.04   ][  -1.1   ][    0    ][  -0.24  ]\n",
      "[    0    ][    0    ][    0    ][  -0.9   ][  2.04   ][    0    ][  1.96   ]\n",
      "[    0    ][    0    ][    0    ][    0    ][    0    ][    1    ][    2    ]\n"
     ]
    }
   ],
   "source": [
    "formatacaough(np.concatenate((M, b), axis=1))"
   ]
  },
  {
   "cell_type": "markdown",
   "id": "75a2b86d",
   "metadata": {},
   "source": [
    "Vou tentar resolver decompondo em LU e com uma eliminação Gaussiana para decompor a matriz (talvez não seja o método mais eficiente, mas se der uma solução vai ser precisa). Esse método é utilizado quando todos os outros não tem uma convergência garantida."
   ]
  },
  {
   "cell_type": "code",
   "execution_count": 16,
   "id": "e6366a5d",
   "metadata": {},
   "outputs": [
    {
     "name": "stdout",
     "output_type": "stream",
     "text": [
      "[0.         0.01867807 0.25282115 0.67176808 1.25715258 2.        ]\n"
     ]
    }
   ],
   "source": [
    "#por baixo dos panos essa função solveLU usa uma eliminação gaussiana pra decompor em LU\n",
    "print(solveLU(M, b))"
   ]
  },
  {
   "cell_type": "markdown",
   "id": "146de7c8",
   "metadata": {},
   "source": [
    "\\begin{equation}\n",
    "y \\approx \\begin{bmatrix}\n",
    "\\begin{aligned}\n",
    "    &0.00 \\\\\n",
    "    &0.02 \\\\\n",
    "    &0.25 \\\\\n",
    "    &0.67 \\\\\n",
    "    &1.26 \\\\\n",
    "    &2.00\n",
    "\\end{aligned}\n",
    "\\end{bmatrix}\n",
    "\\end{equation}"
   ]
  },
  {
   "cell_type": "markdown",
   "id": "3fad33f5",
   "metadata": {},
   "source": [
    "Mas podemos ver que há bastante zeros no sistema e ele certamente é diagonal dominante, então podemos utilizar o método de Gauss-Seidel:"
   ]
  },
  {
   "cell_type": "code",
   "execution_count": 17,
   "id": "657018f5",
   "metadata": {},
   "outputs": [
    {
     "name": "stdout",
     "output_type": "stream",
     "text": [
      "[0.         0.01867599 0.25281875 0.67176636 1.25715183 2.        ]\n"
     ]
    }
   ],
   "source": [
    "bnew = np.array([0.0, -0.24, -0.24, -0.24, 1.96, 2.0])\n",
    "ygs = solveGaussSeidel(M, bnew)\n",
    "print(ygs)"
   ]
  },
  {
   "cell_type": "markdown",
   "id": "19b7c0c3",
   "metadata": {},
   "source": [
    "É possível ver que de fato da na mesma solução e com mais garantia e eficiência."
   ]
  },
  {
   "cell_type": "code",
   "execution_count": 18,
   "id": "3d1cdc37",
   "metadata": {},
   "outputs": [
    {
     "data": {
      "image/png": "[encoded data removed]",
      "text/plain": [
       "<Figure size 640x480 with 1 Axes>"
      ]
     },
     "metadata": {},
     "output_type": "display_data"
    }
   ],
   "source": [
    "xdisp = [0.0, 0.2, 0.4, 0.6, 0.8, 1.0]\n",
    "ydisp = ygs\n",
    "\n",
    "plt.plot(xdisp, ydisp, 'ro')\n",
    "plt.show()"
   ]
  },
  {
   "cell_type": "markdown",
   "id": "87866c21",
   "metadata": {},
   "source": [
    "Vamos interpolar essa função utilizando esses pontos e o polinômios de Lagrange:"
   ]
  },
  {
   "cell_type": "code",
   "execution_count": 19,
   "id": "7537fd5d",
   "metadata": {},
   "outputs": [],
   "source": [
    "def productloop(xval, xtab):\n",
    "    product = 1\n",
    "    for i in range(len(xtab)):\n",
    "        product *= (xval - xtab[i])\n",
    "    \n",
    "    return product\n",
    "\n",
    "def Di(i, xval, xtab, ytab):\n",
    "    product = (xval - xtab[i])\n",
    "    for j in range(len(xtab)):\n",
    "        if i != j:\n",
    "            product *= (xtab[j] - xtab[i])\n",
    "\n",
    "    return product\n",
    "\n",
    "def S(xval, xtab, ytab):\n",
    "    Sval = 0;\n",
    "\n",
    "    for i in range(len(ytab)):\n",
    "        Sval += ytab[i]/Di(i, xval, xtab, ytab)\n",
    "\n",
    "    return Sval\n",
    "\n",
    "def Pn(xval, xtab, ytab):\n",
    "    if xval in xtab:\n",
    "        return ytab[np.where(xtab == xval)[0]]\n",
    "\n",
    "    return productloop(xval, xtab) * S(xval, xtab, ytab)"
   ]
  },
  {
   "cell_type": "code",
   "execution_count": 20,
   "id": "cde109a0",
   "metadata": {},
   "outputs": [
    {
     "name": "stderr",
     "output_type": "stream",
     "text": [
      "/tmp/ipykernel_51773/122012315.py:4: DeprecationWarning: Conversion of an array with ndim > 0 to a scalar is deprecated, and will error in future. Ensure you extract a single element from your array before performing this operation. (Deprecated NumPy 1.25.)\n",
      "  yinterp[i] = Pn(xinterp[i], xdisp, ydisp)\n"
     ]
    },
    {
     "data": {
      "image/png": "[encoded data removed]",
      "text/plain": [
       "<Figure size 640x480 with 1 Axes>"
      ]
     },
     "metadata": {},
     "output_type": "display_data"
    }
   ],
   "source": [
    "xinterp = np.linspace(0, 1, 200)\n",
    "yinterp = np.zeros(200)\n",
    "for i in range(200):\n",
    "    yinterp[i] = Pn(xinterp[i], xdisp, ydisp)\n",
    "\n",
    "plt.plot(xdisp, ydisp, 'ro')\n",
    "plt.plot(xinterp, yinterp, 'b-')\n",
    "plt.plot([0.5], [Pn(0.5, xdisp, ydisp)], 'go')\n",
    "plt.legend([\"Pontos\", \"Interpolador\", \"Interpolado em x = 0.5\"])\n",
    "plt.xlabel(\"x\")\n",
    "plt.ylabel(\"y\")\n",
    "plt.show()"
   ]
  },
  {
   "cell_type": "markdown",
   "id": "22570933",
   "metadata": {},
   "source": [
    "Não ta funcionando e eu estou sem tempo."
   ]
  }
 ],
 "metadata": {
  "kernelspec": {
   "display_name": "Python 3 (ipykernel)",
   "language": "python",
   "name": "python3"
  },
  "language_info": {
   "codemirror_mode": {
    "name": "ipython",
    "version": 3
   },
   "file_extension": ".py",
   "mimetype": "text/x-python",
   "name": "python",
   "nbconvert_exporter": "python",
   "pygments_lexer": "ipython3",
   "version": "3.10.12"
  }
 },
 "nbformat": 4,
 "nbformat_minor": 5
}
