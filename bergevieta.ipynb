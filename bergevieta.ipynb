{
 "cells": [
  {
   "cell_type": "code",
   "execution_count": 1,
   "metadata": {},
   "outputs": [],
   "source": [
    "from math import *\n",
    "from tabulate import tabulate"
   ]
  },
  {
   "cell_type": "code",
   "execution_count": 2,
   "metadata": {},
   "outputs": [],
   "source": [
    "def briotruffini(an, x0):\n",
    "    n = len(an) - 1\n",
    "\n",
    "    pprev = an[0]\n",
    "    qprev = an[0]\n",
    "\n",
    "    for i in range(0, n):\n",
    "        p = pprev * x0 + an[i + 1]\n",
    "        q = qprev * x0 + p\n",
    "\n",
    "        pprev = p\n",
    "        if i != n-1:\n",
    "            qprev = q\n",
    "\n",
    "    return pprev, qprev"
   ]
  },
  {
   "cell_type": "code",
   "execution_count": 14,
   "metadata": {},
   "outputs": [],
   "source": [
    "def bergevieta(an, x0, eps, maxiter=100):\n",
    "    xk = x0\n",
    "    points = []\n",
    "    headers = [\"k\", \"xk\", \"xk1\", \"f(xk)\", \"f'(x)\", \"erro\"]\n",
    "\n",
    "    for k in range(0, maxiter):\n",
    "        p, q = briotruffini(an, xk)\n",
    "        xk1 = xk - p/q\n",
    "\n",
    "        points.append([k, xk, xk1, p, q, abs(xk1 - xk)/abs(xk1)])\n",
    "\n",
    "        if abs(xk1 - xk)/abs(xk1) < eps:\n",
    "            return points, headers\n",
    "\n",
    "        xk = xk1\n",
    "\n",
    "    return points, headers"
   ]
  },
  {
   "cell_type": "code",
   "execution_count": 17,
   "metadata": {},
   "outputs": [
    {
     "name": "stdout",
     "output_type": "stream",
     "text": [
      "  k       xk      xk1       f(xk)    f'(x)        erro\n",
      "---  -------  -------  ----------  -------  ----------\n",
      "  0  1        3        -2          1        0.666667\n",
      "  1  3        2.2       4          5        0.363636\n",
      "  2  2.2      2.01176   0.64       3.4      0.0935673\n",
      "  3  2.01176  2.00005   0.0354325  3.02353  0.00585933\n"
     ]
    }
   ],
   "source": [
    "an = [1, -1, -2]\n",
    "x0 = 1\n",
    "\n",
    "points, headers = bergevieta(an, x0, 1e-2)\n",
    "print(tabulate(points, headers=headers ))"
   ]
  },
  {
   "cell_type": "markdown",
   "metadata": {},
   "source": [
    "Se eu entendi bem esse método de Berge-Vietà tem a mesma convergência que o de Newton (com derivada exata), porém economiza na computação da derivada e função ao mesmo tempo. Economiza algumas multiplicações também."
   ]
  },
  {
   "cell_type": "markdown",
   "metadata": {},
   "source": []
  }
 ],
 "metadata": {
  "kernelspec": {
   "display_name": "Python 3",
   "language": "python",
   "name": "python3"
  },
  "language_info": {
   "codemirror_mode": {
    "name": "ipython",
    "version": 3
   },
   "file_extension": ".py",
   "mimetype": "text/x-python",
   "name": "python",
   "nbconvert_exporter": "python",
   "pygments_lexer": "ipython3",
   "version": "3.10.12"
  }
 },
 "nbformat": 4,
 "nbformat_minor": 2
}
